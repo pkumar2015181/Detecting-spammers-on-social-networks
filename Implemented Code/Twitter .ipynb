{
 "cells": [
  {
   "cell_type": "markdown",
   "metadata": {},
   "source": [
    "# DETECTING SPAMMERS ON SOCIAL NETWORKS"
   ]
  },
  {
   "cell_type": "markdown",
   "metadata": {},
   "source": [
    "## INSTRUCTORS : Dr. Ayan Seal , Dr. Kusum Kumari Bharti"
   ]
  },
  {
   "cell_type": "markdown",
   "metadata": {},
   "source": [
    "### By :[Group:9] Surya Prakash Mourya(2015258) , Raja Nigwal (2015197), Pradeep Kumar(2015181) "
   ]
  },
  {
   "cell_type": "markdown",
   "metadata": {},
   "source": [
    "#### Importing  Twitter Data"
   ]
  },
  {
   "cell_type": "code",
   "execution_count": 1,
   "metadata": {},
   "outputs": [],
   "source": [
    "import pandas as pd \n",
    "import matplotlib.pyplot as plt\n",
    "%matplotlib inline\n",
    "import seaborn as sns\n",
    "df1 = pd.read_csv(\"csv_result-5k-continuous.csv\")\n",
    "df2 = pd.read_csv(\"csv_result-5k-random.csv\")\n",
    "df3 = pd.read_csv(\"csv_result-95k-continuous.csv\")\n",
    "df4 = pd.read_csv(\"csv_result-5k-random.csv\")"
   ]
  },
  {
   "cell_type": "code",
   "execution_count": 2,
   "metadata": {},
   "outputs": [
    {
     "data": {
      "text/html": [
       "<div>\n",
       "<style scoped>\n",
       "    .dataframe tbody tr th:only-of-type {\n",
       "        vertical-align: middle;\n",
       "    }\n",
       "\n",
       "    .dataframe tbody tr th {\n",
       "        vertical-align: top;\n",
       "    }\n",
       "\n",
       "    .dataframe thead th {\n",
       "        text-align: right;\n",
       "    }\n",
       "</style>\n",
       "<table border=\"1\" class=\"dataframe\">\n",
       "  <thead>\n",
       "    <tr style=\"text-align: right;\">\n",
       "      <th></th>\n",
       "      <th>id</th>\n",
       "      <th>account_age</th>\n",
       "      <th>no_follower</th>\n",
       "      <th>no_following</th>\n",
       "      <th>no_userfavourites</th>\n",
       "      <th>no_lists</th>\n",
       "      <th>no_tweets</th>\n",
       "      <th>no_retweets</th>\n",
       "      <th>no_hashtag</th>\n",
       "      <th>no_usermention</th>\n",
       "      <th>no_urls</th>\n",
       "      <th>no_char</th>\n",
       "      <th>no_digits</th>\n",
       "      <th>class</th>\n",
       "    </tr>\n",
       "  </thead>\n",
       "  <tbody>\n",
       "    <tr>\n",
       "      <th>0</th>\n",
       "      <td>1</td>\n",
       "      <td>242</td>\n",
       "      <td>0</td>\n",
       "      <td>0</td>\n",
       "      <td>0</td>\n",
       "      <td>0</td>\n",
       "      <td>62</td>\n",
       "      <td>0</td>\n",
       "      <td>1</td>\n",
       "      <td>0</td>\n",
       "      <td>1</td>\n",
       "      <td>29</td>\n",
       "      <td>0</td>\n",
       "      <td>spammer</td>\n",
       "    </tr>\n",
       "    <tr>\n",
       "      <th>1</th>\n",
       "      <td>2</td>\n",
       "      <td>834</td>\n",
       "      <td>1</td>\n",
       "      <td>5</td>\n",
       "      <td>0</td>\n",
       "      <td>0</td>\n",
       "      <td>64</td>\n",
       "      <td>0</td>\n",
       "      <td>1</td>\n",
       "      <td>0</td>\n",
       "      <td>1</td>\n",
       "      <td>22</td>\n",
       "      <td>0</td>\n",
       "      <td>spammer</td>\n",
       "    </tr>\n",
       "    <tr>\n",
       "      <th>2</th>\n",
       "      <td>3</td>\n",
       "      <td>978</td>\n",
       "      <td>44</td>\n",
       "      <td>18</td>\n",
       "      <td>0</td>\n",
       "      <td>0</td>\n",
       "      <td>114</td>\n",
       "      <td>0</td>\n",
       "      <td>1</td>\n",
       "      <td>0</td>\n",
       "      <td>1</td>\n",
       "      <td>35</td>\n",
       "      <td>0</td>\n",
       "      <td>spammer</td>\n",
       "    </tr>\n",
       "    <tr>\n",
       "      <th>3</th>\n",
       "      <td>4</td>\n",
       "      <td>490</td>\n",
       "      <td>0</td>\n",
       "      <td>26</td>\n",
       "      <td>0</td>\n",
       "      <td>0</td>\n",
       "      <td>3840</td>\n",
       "      <td>0</td>\n",
       "      <td>1</td>\n",
       "      <td>0</td>\n",
       "      <td>1</td>\n",
       "      <td>38</td>\n",
       "      <td>0</td>\n",
       "      <td>spammer</td>\n",
       "    </tr>\n",
       "    <tr>\n",
       "      <th>4</th>\n",
       "      <td>5</td>\n",
       "      <td>248</td>\n",
       "      <td>0</td>\n",
       "      <td>0</td>\n",
       "      <td>0</td>\n",
       "      <td>0</td>\n",
       "      <td>72</td>\n",
       "      <td>0</td>\n",
       "      <td>1</td>\n",
       "      <td>0</td>\n",
       "      <td>1</td>\n",
       "      <td>42</td>\n",
       "      <td>4</td>\n",
       "      <td>spammer</td>\n",
       "    </tr>\n",
       "  </tbody>\n",
       "</table>\n",
       "</div>"
      ],
      "text/plain": [
       "   id  account_age  no_follower  no_following  no_userfavourites  no_lists  \\\n",
       "0   1          242            0             0                  0         0   \n",
       "1   2          834            1             5                  0         0   \n",
       "2   3          978           44            18                  0         0   \n",
       "3   4          490            0            26                  0         0   \n",
       "4   5          248            0             0                  0         0   \n",
       "\n",
       "   no_tweets  no_retweets  no_hashtag  no_usermention  no_urls  no_char  \\\n",
       "0         62            0           1               0        1       29   \n",
       "1         64            0           1               0        1       22   \n",
       "2        114            0           1               0        1       35   \n",
       "3       3840            0           1               0        1       38   \n",
       "4         72            0           1               0        1       42   \n",
       "\n",
       "   no_digits    class  \n",
       "0          0  spammer  \n",
       "1          0  spammer  \n",
       "2          0  spammer  \n",
       "3          0  spammer  \n",
       "4          4  spammer  "
      ]
     },
     "execution_count": 2,
     "metadata": {},
     "output_type": "execute_result"
    }
   ],
   "source": [
    "df1.head()"
   ]
  },
  {
   "cell_type": "code",
   "execution_count": 3,
   "metadata": {},
   "outputs": [
    {
     "data": {
      "text/html": [
       "<div>\n",
       "<style scoped>\n",
       "    .dataframe tbody tr th:only-of-type {\n",
       "        vertical-align: middle;\n",
       "    }\n",
       "\n",
       "    .dataframe tbody tr th {\n",
       "        vertical-align: top;\n",
       "    }\n",
       "\n",
       "    .dataframe thead th {\n",
       "        text-align: right;\n",
       "    }\n",
       "</style>\n",
       "<table border=\"1\" class=\"dataframe\">\n",
       "  <thead>\n",
       "    <tr style=\"text-align: right;\">\n",
       "      <th></th>\n",
       "      <th>id</th>\n",
       "      <th>account_age</th>\n",
       "      <th>no_follower</th>\n",
       "      <th>no_following</th>\n",
       "      <th>no_userfavourites</th>\n",
       "      <th>no_lists</th>\n",
       "      <th>no_tweets</th>\n",
       "      <th>no_retweets</th>\n",
       "      <th>no_hashtag</th>\n",
       "      <th>no_usermention</th>\n",
       "      <th>no_urls</th>\n",
       "      <th>no_char</th>\n",
       "      <th>no_digits</th>\n",
       "    </tr>\n",
       "  </thead>\n",
       "  <tbody>\n",
       "    <tr>\n",
       "      <th>count</th>\n",
       "      <td>10000.00000</td>\n",
       "      <td>10000.000000</td>\n",
       "      <td>1.000000e+04</td>\n",
       "      <td>10000.000000</td>\n",
       "      <td>10000.000000</td>\n",
       "      <td>10000.000000</td>\n",
       "      <td>1.000000e+04</td>\n",
       "      <td>10000.000000</td>\n",
       "      <td>10000.000000</td>\n",
       "      <td>10000.000000</td>\n",
       "      <td>10000.00000</td>\n",
       "      <td>10000.000000</td>\n",
       "      <td>10000.000000</td>\n",
       "    </tr>\n",
       "    <tr>\n",
       "      <th>mean</th>\n",
       "      <td>5000.50000</td>\n",
       "      <td>770.309200</td>\n",
       "      <td>3.117403e+03</td>\n",
       "      <td>961.075600</td>\n",
       "      <td>522.777700</td>\n",
       "      <td>27.589400</td>\n",
       "      <td>1.543804e+04</td>\n",
       "      <td>54.297300</td>\n",
       "      <td>0.665200</td>\n",
       "      <td>0.209200</td>\n",
       "      <td>1.01980</td>\n",
       "      <td>55.161600</td>\n",
       "      <td>1.252200</td>\n",
       "    </tr>\n",
       "    <tr>\n",
       "      <th>std</th>\n",
       "      <td>2886.89568</td>\n",
       "      <td>497.817407</td>\n",
       "      <td>4.829453e+04</td>\n",
       "      <td>7343.200283</td>\n",
       "      <td>5770.972646</td>\n",
       "      <td>477.324049</td>\n",
       "      <td>5.108549e+04</td>\n",
       "      <td>1112.905139</td>\n",
       "      <td>0.973655</td>\n",
       "      <td>0.546869</td>\n",
       "      <td>0.20399</td>\n",
       "      <td>29.773433</td>\n",
       "      <td>2.515955</td>\n",
       "    </tr>\n",
       "    <tr>\n",
       "      <th>min</th>\n",
       "      <td>1.00000</td>\n",
       "      <td>0.000000</td>\n",
       "      <td>0.000000e+00</td>\n",
       "      <td>0.000000</td>\n",
       "      <td>0.000000</td>\n",
       "      <td>0.000000</td>\n",
       "      <td>1.000000e+00</td>\n",
       "      <td>0.000000</td>\n",
       "      <td>0.000000</td>\n",
       "      <td>0.000000</td>\n",
       "      <td>1.00000</td>\n",
       "      <td>0.000000</td>\n",
       "      <td>0.000000</td>\n",
       "    </tr>\n",
       "    <tr>\n",
       "      <th>25%</th>\n",
       "      <td>2500.75000</td>\n",
       "      <td>342.750000</td>\n",
       "      <td>2.000000e+00</td>\n",
       "      <td>13.000000</td>\n",
       "      <td>0.000000</td>\n",
       "      <td>0.000000</td>\n",
       "      <td>7.375000e+01</td>\n",
       "      <td>0.000000</td>\n",
       "      <td>0.000000</td>\n",
       "      <td>0.000000</td>\n",
       "      <td>1.00000</td>\n",
       "      <td>32.000000</td>\n",
       "      <td>0.000000</td>\n",
       "    </tr>\n",
       "    <tr>\n",
       "      <th>50%</th>\n",
       "      <td>5000.50000</td>\n",
       "      <td>739.000000</td>\n",
       "      <td>8.600000e+01</td>\n",
       "      <td>165.000000</td>\n",
       "      <td>1.000000</td>\n",
       "      <td>0.000000</td>\n",
       "      <td>1.389000e+03</td>\n",
       "      <td>0.000000</td>\n",
       "      <td>1.000000</td>\n",
       "      <td>0.000000</td>\n",
       "      <td>1.00000</td>\n",
       "      <td>48.000000</td>\n",
       "      <td>0.000000</td>\n",
       "    </tr>\n",
       "    <tr>\n",
       "      <th>75%</th>\n",
       "      <td>7500.25000</td>\n",
       "      <td>1108.000000</td>\n",
       "      <td>6.000000e+02</td>\n",
       "      <td>505.000000</td>\n",
       "      <td>56.000000</td>\n",
       "      <td>2.000000</td>\n",
       "      <td>1.280775e+04</td>\n",
       "      <td>0.000000</td>\n",
       "      <td>1.000000</td>\n",
       "      <td>0.000000</td>\n",
       "      <td>1.00000</td>\n",
       "      <td>76.000000</td>\n",
       "      <td>2.000000</td>\n",
       "    </tr>\n",
       "    <tr>\n",
       "      <th>max</th>\n",
       "      <td>10000.00000</td>\n",
       "      <td>2487.000000</td>\n",
       "      <td>2.159849e+06</td>\n",
       "      <td>368351.000000</td>\n",
       "      <td>505575.000000</td>\n",
       "      <td>34805.000000</td>\n",
       "      <td>2.886203e+06</td>\n",
       "      <td>71072.000000</td>\n",
       "      <td>13.000000</td>\n",
       "      <td>8.000000</td>\n",
       "      <td>5.00000</td>\n",
       "      <td>160.000000</td>\n",
       "      <td>55.000000</td>\n",
       "    </tr>\n",
       "  </tbody>\n",
       "</table>\n",
       "</div>"
      ],
      "text/plain": [
       "                id   account_age   no_follower   no_following  \\\n",
       "count  10000.00000  10000.000000  1.000000e+04   10000.000000   \n",
       "mean    5000.50000    770.309200  3.117403e+03     961.075600   \n",
       "std     2886.89568    497.817407  4.829453e+04    7343.200283   \n",
       "min        1.00000      0.000000  0.000000e+00       0.000000   \n",
       "25%     2500.75000    342.750000  2.000000e+00      13.000000   \n",
       "50%     5000.50000    739.000000  8.600000e+01     165.000000   \n",
       "75%     7500.25000   1108.000000  6.000000e+02     505.000000   \n",
       "max    10000.00000   2487.000000  2.159849e+06  368351.000000   \n",
       "\n",
       "       no_userfavourites      no_lists     no_tweets   no_retweets  \\\n",
       "count       10000.000000  10000.000000  1.000000e+04  10000.000000   \n",
       "mean          522.777700     27.589400  1.543804e+04     54.297300   \n",
       "std          5770.972646    477.324049  5.108549e+04   1112.905139   \n",
       "min             0.000000      0.000000  1.000000e+00      0.000000   \n",
       "25%             0.000000      0.000000  7.375000e+01      0.000000   \n",
       "50%             1.000000      0.000000  1.389000e+03      0.000000   \n",
       "75%            56.000000      2.000000  1.280775e+04      0.000000   \n",
       "max        505575.000000  34805.000000  2.886203e+06  71072.000000   \n",
       "\n",
       "         no_hashtag  no_usermention      no_urls       no_char     no_digits  \n",
       "count  10000.000000    10000.000000  10000.00000  10000.000000  10000.000000  \n",
       "mean       0.665200        0.209200      1.01980     55.161600      1.252200  \n",
       "std        0.973655        0.546869      0.20399     29.773433      2.515955  \n",
       "min        0.000000        0.000000      1.00000      0.000000      0.000000  \n",
       "25%        0.000000        0.000000      1.00000     32.000000      0.000000  \n",
       "50%        1.000000        0.000000      1.00000     48.000000      0.000000  \n",
       "75%        1.000000        0.000000      1.00000     76.000000      2.000000  \n",
       "max       13.000000        8.000000      5.00000    160.000000     55.000000  "
      ]
     },
     "execution_count": 3,
     "metadata": {},
     "output_type": "execute_result"
    }
   ],
   "source": [
    "df1.describe()"
   ]
  },
  {
   "cell_type": "code",
   "execution_count": 4,
   "metadata": {},
   "outputs": [
    {
     "data": {
      "text/html": [
       "<div>\n",
       "<style scoped>\n",
       "    .dataframe tbody tr th:only-of-type {\n",
       "        vertical-align: middle;\n",
       "    }\n",
       "\n",
       "    .dataframe tbody tr th {\n",
       "        vertical-align: top;\n",
       "    }\n",
       "\n",
       "    .dataframe thead th {\n",
       "        text-align: right;\n",
       "    }\n",
       "</style>\n",
       "<table border=\"1\" class=\"dataframe\">\n",
       "  <thead>\n",
       "    <tr style=\"text-align: right;\">\n",
       "      <th></th>\n",
       "      <th>id</th>\n",
       "      <th>account_age</th>\n",
       "      <th>no_follower</th>\n",
       "      <th>no_following</th>\n",
       "      <th>no_userfavourites</th>\n",
       "      <th>no_lists</th>\n",
       "      <th>no_tweets</th>\n",
       "      <th>no_retweets</th>\n",
       "      <th>no_hashtag</th>\n",
       "      <th>no_usermention</th>\n",
       "      <th>no_urls</th>\n",
       "      <th>no_char</th>\n",
       "      <th>no_digits</th>\n",
       "      <th>class</th>\n",
       "    </tr>\n",
       "  </thead>\n",
       "  <tbody>\n",
       "    <tr>\n",
       "      <th>0</th>\n",
       "      <td>1</td>\n",
       "      <td>0</td>\n",
       "      <td>120</td>\n",
       "      <td>211</td>\n",
       "      <td>3</td>\n",
       "      <td>0</td>\n",
       "      <td>180</td>\n",
       "      <td>1</td>\n",
       "      <td>1</td>\n",
       "      <td>2</td>\n",
       "      <td>1</td>\n",
       "      <td>94</td>\n",
       "      <td>1</td>\n",
       "      <td>spammer</td>\n",
       "    </tr>\n",
       "    <tr>\n",
       "      <th>1</th>\n",
       "      <td>2</td>\n",
       "      <td>707</td>\n",
       "      <td>624</td>\n",
       "      <td>428</td>\n",
       "      <td>2507</td>\n",
       "      <td>0</td>\n",
       "      <td>12881</td>\n",
       "      <td>0</td>\n",
       "      <td>0</td>\n",
       "      <td>0</td>\n",
       "      <td>1</td>\n",
       "      <td>99</td>\n",
       "      <td>6</td>\n",
       "      <td>spammer</td>\n",
       "    </tr>\n",
       "    <tr>\n",
       "      <th>2</th>\n",
       "      <td>3</td>\n",
       "      <td>121</td>\n",
       "      <td>1</td>\n",
       "      <td>515</td>\n",
       "      <td>0</td>\n",
       "      <td>0</td>\n",
       "      <td>416</td>\n",
       "      <td>0</td>\n",
       "      <td>0</td>\n",
       "      <td>0</td>\n",
       "      <td>1</td>\n",
       "      <td>37</td>\n",
       "      <td>0</td>\n",
       "      <td>spammer</td>\n",
       "    </tr>\n",
       "    <tr>\n",
       "      <th>3</th>\n",
       "      <td>4</td>\n",
       "      <td>260</td>\n",
       "      <td>5</td>\n",
       "      <td>23</td>\n",
       "      <td>0</td>\n",
       "      <td>0</td>\n",
       "      <td>1174</td>\n",
       "      <td>0</td>\n",
       "      <td>2</td>\n",
       "      <td>0</td>\n",
       "      <td>1</td>\n",
       "      <td>56</td>\n",
       "      <td>0</td>\n",
       "      <td>spammer</td>\n",
       "    </tr>\n",
       "    <tr>\n",
       "      <th>4</th>\n",
       "      <td>5</td>\n",
       "      <td>624</td>\n",
       "      <td>983</td>\n",
       "      <td>159</td>\n",
       "      <td>11</td>\n",
       "      <td>2</td>\n",
       "      <td>42533</td>\n",
       "      <td>0</td>\n",
       "      <td>1</td>\n",
       "      <td>0</td>\n",
       "      <td>1</td>\n",
       "      <td>82</td>\n",
       "      <td>6</td>\n",
       "      <td>spammer</td>\n",
       "    </tr>\n",
       "  </tbody>\n",
       "</table>\n",
       "</div>"
      ],
      "text/plain": [
       "   id  account_age  no_follower  no_following  no_userfavourites  no_lists  \\\n",
       "0   1            0          120           211                  3         0   \n",
       "1   2          707          624           428               2507         0   \n",
       "2   3          121            1           515                  0         0   \n",
       "3   4          260            5            23                  0         0   \n",
       "4   5          624          983           159                 11         2   \n",
       "\n",
       "   no_tweets  no_retweets  no_hashtag  no_usermention  no_urls  no_char  \\\n",
       "0        180            1           1               2        1       94   \n",
       "1      12881            0           0               0        1       99   \n",
       "2        416            0           0               0        1       37   \n",
       "3       1174            0           2               0        1       56   \n",
       "4      42533            0           1               0        1       82   \n",
       "\n",
       "   no_digits    class  \n",
       "0          1  spammer  \n",
       "1          6  spammer  \n",
       "2          0  spammer  \n",
       "3          0  spammer  \n",
       "4          6  spammer  "
      ]
     },
     "execution_count": 4,
     "metadata": {},
     "output_type": "execute_result"
    }
   ],
   "source": [
    "df2.head()"
   ]
  },
  {
   "cell_type": "code",
   "execution_count": 5,
   "metadata": {},
   "outputs": [
    {
     "data": {
      "text/html": [
       "<div>\n",
       "<style scoped>\n",
       "    .dataframe tbody tr th:only-of-type {\n",
       "        vertical-align: middle;\n",
       "    }\n",
       "\n",
       "    .dataframe tbody tr th {\n",
       "        vertical-align: top;\n",
       "    }\n",
       "\n",
       "    .dataframe thead th {\n",
       "        text-align: right;\n",
       "    }\n",
       "</style>\n",
       "<table border=\"1\" class=\"dataframe\">\n",
       "  <thead>\n",
       "    <tr style=\"text-align: right;\">\n",
       "      <th></th>\n",
       "      <th>id</th>\n",
       "      <th>account_age</th>\n",
       "      <th>no_follower</th>\n",
       "      <th>no_following</th>\n",
       "      <th>no_userfavourites</th>\n",
       "      <th>no_lists</th>\n",
       "      <th>no_tweets</th>\n",
       "      <th>no_retweets</th>\n",
       "      <th>no_hashtag</th>\n",
       "      <th>no_usermention</th>\n",
       "      <th>no_urls</th>\n",
       "      <th>no_char</th>\n",
       "      <th>no_digits</th>\n",
       "    </tr>\n",
       "  </thead>\n",
       "  <tbody>\n",
       "    <tr>\n",
       "      <th>count</th>\n",
       "      <td>10000.00000</td>\n",
       "      <td>10000.000000</td>\n",
       "      <td>1.000000e+04</td>\n",
       "      <td>10000.000000</td>\n",
       "      <td>10000.000000</td>\n",
       "      <td>10000.000000</td>\n",
       "      <td>1.000000e+04</td>\n",
       "      <td>10000.000000</td>\n",
       "      <td>10000.000000</td>\n",
       "      <td>10000.000000</td>\n",
       "      <td>10000.000000</td>\n",
       "      <td>10000.00000</td>\n",
       "      <td>10000.000000</td>\n",
       "    </tr>\n",
       "    <tr>\n",
       "      <th>mean</th>\n",
       "      <td>5000.50000</td>\n",
       "      <td>659.090100</td>\n",
       "      <td>2.787160e+03</td>\n",
       "      <td>1080.706100</td>\n",
       "      <td>730.414800</td>\n",
       "      <td>21.605600</td>\n",
       "      <td>1.425985e+04</td>\n",
       "      <td>499.717900</td>\n",
       "      <td>0.499400</td>\n",
       "      <td>0.391800</td>\n",
       "      <td>1.071500</td>\n",
       "      <td>65.24600</td>\n",
       "      <td>2.257800</td>\n",
       "    </tr>\n",
       "    <tr>\n",
       "      <th>std</th>\n",
       "      <td>2886.89568</td>\n",
       "      <td>528.596058</td>\n",
       "      <td>3.832586e+04</td>\n",
       "      <td>10281.993514</td>\n",
       "      <td>4310.692861</td>\n",
       "      <td>348.569682</td>\n",
       "      <td>3.712682e+04</td>\n",
       "      <td>5142.156412</td>\n",
       "      <td>1.029226</td>\n",
       "      <td>0.714243</td>\n",
       "      <td>0.328022</td>\n",
       "      <td>31.94595</td>\n",
       "      <td>3.970858</td>\n",
       "    </tr>\n",
       "    <tr>\n",
       "      <th>min</th>\n",
       "      <td>1.00000</td>\n",
       "      <td>0.000000</td>\n",
       "      <td>0.000000e+00</td>\n",
       "      <td>0.000000</td>\n",
       "      <td>0.000000</td>\n",
       "      <td>0.000000</td>\n",
       "      <td>0.000000e+00</td>\n",
       "      <td>0.000000</td>\n",
       "      <td>0.000000</td>\n",
       "      <td>0.000000</td>\n",
       "      <td>1.000000</td>\n",
       "      <td>0.00000</td>\n",
       "      <td>0.000000</td>\n",
       "    </tr>\n",
       "    <tr>\n",
       "      <th>25%</th>\n",
       "      <td>2500.75000</td>\n",
       "      <td>177.000000</td>\n",
       "      <td>1.900000e+01</td>\n",
       "      <td>62.000000</td>\n",
       "      <td>0.000000</td>\n",
       "      <td>0.000000</td>\n",
       "      <td>5.577500e+02</td>\n",
       "      <td>0.000000</td>\n",
       "      <td>0.000000</td>\n",
       "      <td>0.000000</td>\n",
       "      <td>1.000000</td>\n",
       "      <td>41.00000</td>\n",
       "      <td>0.000000</td>\n",
       "    </tr>\n",
       "    <tr>\n",
       "      <th>50%</th>\n",
       "      <td>5000.50000</td>\n",
       "      <td>574.000000</td>\n",
       "      <td>2.230000e+02</td>\n",
       "      <td>266.000000</td>\n",
       "      <td>8.000000</td>\n",
       "      <td>0.000000</td>\n",
       "      <td>2.846500e+03</td>\n",
       "      <td>0.000000</td>\n",
       "      <td>0.000000</td>\n",
       "      <td>0.000000</td>\n",
       "      <td>1.000000</td>\n",
       "      <td>61.00000</td>\n",
       "      <td>0.000000</td>\n",
       "    </tr>\n",
       "    <tr>\n",
       "      <th>75%</th>\n",
       "      <td>7500.25000</td>\n",
       "      <td>1017.000000</td>\n",
       "      <td>6.995000e+02</td>\n",
       "      <td>726.000000</td>\n",
       "      <td>182.250000</td>\n",
       "      <td>2.000000</td>\n",
       "      <td>1.284900e+04</td>\n",
       "      <td>0.000000</td>\n",
       "      <td>1.000000</td>\n",
       "      <td>1.000000</td>\n",
       "      <td>1.000000</td>\n",
       "      <td>91.00000</td>\n",
       "      <td>4.000000</td>\n",
       "    </tr>\n",
       "    <tr>\n",
       "      <th>max</th>\n",
       "      <td>10000.00000</td>\n",
       "      <td>2589.000000</td>\n",
       "      <td>1.879442e+06</td>\n",
       "      <td>738060.000000</td>\n",
       "      <td>165706.000000</td>\n",
       "      <td>26958.000000</td>\n",
       "      <td>1.036464e+06</td>\n",
       "      <td>115372.000000</td>\n",
       "      <td>14.000000</td>\n",
       "      <td>7.000000</td>\n",
       "      <td>6.000000</td>\n",
       "      <td>140.00000</td>\n",
       "      <td>56.000000</td>\n",
       "    </tr>\n",
       "  </tbody>\n",
       "</table>\n",
       "</div>"
      ],
      "text/plain": [
       "                id   account_age   no_follower   no_following  \\\n",
       "count  10000.00000  10000.000000  1.000000e+04   10000.000000   \n",
       "mean    5000.50000    659.090100  2.787160e+03    1080.706100   \n",
       "std     2886.89568    528.596058  3.832586e+04   10281.993514   \n",
       "min        1.00000      0.000000  0.000000e+00       0.000000   \n",
       "25%     2500.75000    177.000000  1.900000e+01      62.000000   \n",
       "50%     5000.50000    574.000000  2.230000e+02     266.000000   \n",
       "75%     7500.25000   1017.000000  6.995000e+02     726.000000   \n",
       "max    10000.00000   2589.000000  1.879442e+06  738060.000000   \n",
       "\n",
       "       no_userfavourites      no_lists     no_tweets    no_retweets  \\\n",
       "count       10000.000000  10000.000000  1.000000e+04   10000.000000   \n",
       "mean          730.414800     21.605600  1.425985e+04     499.717900   \n",
       "std          4310.692861    348.569682  3.712682e+04    5142.156412   \n",
       "min             0.000000      0.000000  0.000000e+00       0.000000   \n",
       "25%             0.000000      0.000000  5.577500e+02       0.000000   \n",
       "50%             8.000000      0.000000  2.846500e+03       0.000000   \n",
       "75%           182.250000      2.000000  1.284900e+04       0.000000   \n",
       "max        165706.000000  26958.000000  1.036464e+06  115372.000000   \n",
       "\n",
       "         no_hashtag  no_usermention       no_urls      no_char     no_digits  \n",
       "count  10000.000000    10000.000000  10000.000000  10000.00000  10000.000000  \n",
       "mean       0.499400        0.391800      1.071500     65.24600      2.257800  \n",
       "std        1.029226        0.714243      0.328022     31.94595      3.970858  \n",
       "min        0.000000        0.000000      1.000000      0.00000      0.000000  \n",
       "25%        0.000000        0.000000      1.000000     41.00000      0.000000  \n",
       "50%        0.000000        0.000000      1.000000     61.00000      0.000000  \n",
       "75%        1.000000        1.000000      1.000000     91.00000      4.000000  \n",
       "max       14.000000        7.000000      6.000000    140.00000     56.000000  "
      ]
     },
     "execution_count": 5,
     "metadata": {},
     "output_type": "execute_result"
    }
   ],
   "source": [
    "df2.describe()"
   ]
  },
  {
   "cell_type": "code",
   "execution_count": 6,
   "metadata": {},
   "outputs": [
    {
     "data": {
      "text/html": [
       "<div>\n",
       "<style scoped>\n",
       "    .dataframe tbody tr th:only-of-type {\n",
       "        vertical-align: middle;\n",
       "    }\n",
       "\n",
       "    .dataframe tbody tr th {\n",
       "        vertical-align: top;\n",
       "    }\n",
       "\n",
       "    .dataframe thead th {\n",
       "        text-align: right;\n",
       "    }\n",
       "</style>\n",
       "<table border=\"1\" class=\"dataframe\">\n",
       "  <thead>\n",
       "    <tr style=\"text-align: right;\">\n",
       "      <th></th>\n",
       "      <th>id</th>\n",
       "      <th>account_age</th>\n",
       "      <th>no_follower</th>\n",
       "      <th>no_following</th>\n",
       "      <th>no_userfavourites</th>\n",
       "      <th>no_lists</th>\n",
       "      <th>no_tweets</th>\n",
       "      <th>no_retweets</th>\n",
       "      <th>no_hashtag</th>\n",
       "      <th>no_usermention</th>\n",
       "      <th>no_urls</th>\n",
       "      <th>no_char</th>\n",
       "      <th>no_digits</th>\n",
       "      <th>class</th>\n",
       "    </tr>\n",
       "  </thead>\n",
       "  <tbody>\n",
       "    <tr>\n",
       "      <th>0</th>\n",
       "      <td>1</td>\n",
       "      <td>242</td>\n",
       "      <td>0</td>\n",
       "      <td>0</td>\n",
       "      <td>0</td>\n",
       "      <td>0</td>\n",
       "      <td>62</td>\n",
       "      <td>0</td>\n",
       "      <td>1</td>\n",
       "      <td>0</td>\n",
       "      <td>1</td>\n",
       "      <td>29</td>\n",
       "      <td>0</td>\n",
       "      <td>spammer</td>\n",
       "    </tr>\n",
       "    <tr>\n",
       "      <th>1</th>\n",
       "      <td>2</td>\n",
       "      <td>834</td>\n",
       "      <td>1</td>\n",
       "      <td>5</td>\n",
       "      <td>0</td>\n",
       "      <td>0</td>\n",
       "      <td>64</td>\n",
       "      <td>0</td>\n",
       "      <td>1</td>\n",
       "      <td>0</td>\n",
       "      <td>1</td>\n",
       "      <td>22</td>\n",
       "      <td>0</td>\n",
       "      <td>spammer</td>\n",
       "    </tr>\n",
       "    <tr>\n",
       "      <th>2</th>\n",
       "      <td>3</td>\n",
       "      <td>978</td>\n",
       "      <td>44</td>\n",
       "      <td>18</td>\n",
       "      <td>0</td>\n",
       "      <td>0</td>\n",
       "      <td>114</td>\n",
       "      <td>0</td>\n",
       "      <td>1</td>\n",
       "      <td>0</td>\n",
       "      <td>1</td>\n",
       "      <td>35</td>\n",
       "      <td>0</td>\n",
       "      <td>spammer</td>\n",
       "    </tr>\n",
       "    <tr>\n",
       "      <th>3</th>\n",
       "      <td>4</td>\n",
       "      <td>490</td>\n",
       "      <td>0</td>\n",
       "      <td>26</td>\n",
       "      <td>0</td>\n",
       "      <td>0</td>\n",
       "      <td>3840</td>\n",
       "      <td>0</td>\n",
       "      <td>1</td>\n",
       "      <td>0</td>\n",
       "      <td>1</td>\n",
       "      <td>38</td>\n",
       "      <td>0</td>\n",
       "      <td>spammer</td>\n",
       "    </tr>\n",
       "    <tr>\n",
       "      <th>4</th>\n",
       "      <td>5</td>\n",
       "      <td>248</td>\n",
       "      <td>0</td>\n",
       "      <td>0</td>\n",
       "      <td>0</td>\n",
       "      <td>0</td>\n",
       "      <td>72</td>\n",
       "      <td>0</td>\n",
       "      <td>1</td>\n",
       "      <td>0</td>\n",
       "      <td>1</td>\n",
       "      <td>42</td>\n",
       "      <td>4</td>\n",
       "      <td>spammer</td>\n",
       "    </tr>\n",
       "  </tbody>\n",
       "</table>\n",
       "</div>"
      ],
      "text/plain": [
       "   id  account_age  no_follower  no_following  no_userfavourites  no_lists  \\\n",
       "0   1          242            0             0                  0         0   \n",
       "1   2          834            1             5                  0         0   \n",
       "2   3          978           44            18                  0         0   \n",
       "3   4          490            0            26                  0         0   \n",
       "4   5          248            0             0                  0         0   \n",
       "\n",
       "   no_tweets  no_retweets  no_hashtag  no_usermention  no_urls  no_char  \\\n",
       "0         62            0           1               0        1       29   \n",
       "1         64            0           1               0        1       22   \n",
       "2        114            0           1               0        1       35   \n",
       "3       3840            0           1               0        1       38   \n",
       "4         72            0           1               0        1       42   \n",
       "\n",
       "   no_digits    class  \n",
       "0          0  spammer  \n",
       "1          0  spammer  \n",
       "2          0  spammer  \n",
       "3          0  spammer  \n",
       "4          4  spammer  "
      ]
     },
     "execution_count": 6,
     "metadata": {},
     "output_type": "execute_result"
    }
   ],
   "source": [
    "df3.head()"
   ]
  },
  {
   "cell_type": "code",
   "execution_count": 7,
   "metadata": {},
   "outputs": [
    {
     "data": {
      "text/html": [
       "<div>\n",
       "<style scoped>\n",
       "    .dataframe tbody tr th:only-of-type {\n",
       "        vertical-align: middle;\n",
       "    }\n",
       "\n",
       "    .dataframe tbody tr th {\n",
       "        vertical-align: top;\n",
       "    }\n",
       "\n",
       "    .dataframe thead th {\n",
       "        text-align: right;\n",
       "    }\n",
       "</style>\n",
       "<table border=\"1\" class=\"dataframe\">\n",
       "  <thead>\n",
       "    <tr style=\"text-align: right;\">\n",
       "      <th></th>\n",
       "      <th>id</th>\n",
       "      <th>account_age</th>\n",
       "      <th>no_follower</th>\n",
       "      <th>no_following</th>\n",
       "      <th>no_userfavourites</th>\n",
       "      <th>no_lists</th>\n",
       "      <th>no_tweets</th>\n",
       "      <th>no_retweets</th>\n",
       "      <th>no_hashtag</th>\n",
       "      <th>no_usermention</th>\n",
       "      <th>no_urls</th>\n",
       "      <th>no_char</th>\n",
       "      <th>no_digits</th>\n",
       "    </tr>\n",
       "  </thead>\n",
       "  <tbody>\n",
       "    <tr>\n",
       "      <th>count</th>\n",
       "      <td>100000.000000</td>\n",
       "      <td>100000.000000</td>\n",
       "      <td>1.000000e+05</td>\n",
       "      <td>1.000000e+05</td>\n",
       "      <td>100000.000000</td>\n",
       "      <td>100000.00000</td>\n",
       "      <td>1.000000e+05</td>\n",
       "      <td>100000.000000</td>\n",
       "      <td>100000.000000</td>\n",
       "      <td>100000.000000</td>\n",
       "      <td>100000.00000</td>\n",
       "      <td>100000.000000</td>\n",
       "      <td>100000.000000</td>\n",
       "    </tr>\n",
       "    <tr>\n",
       "      <th>mean</th>\n",
       "      <td>50000.500000</td>\n",
       "      <td>728.766140</td>\n",
       "      <td>3.985661e+03</td>\n",
       "      <td>1.130066e+03</td>\n",
       "      <td>885.817880</td>\n",
       "      <td>36.49020</td>\n",
       "      <td>2.309988e+04</td>\n",
       "      <td>117.052280</td>\n",
       "      <td>0.490910</td>\n",
       "      <td>0.380020</td>\n",
       "      <td>1.05183</td>\n",
       "      <td>65.071630</td>\n",
       "      <td>1.457350</td>\n",
       "    </tr>\n",
       "    <tr>\n",
       "      <th>std</th>\n",
       "      <td>28867.657797</td>\n",
       "      <td>539.999173</td>\n",
       "      <td>6.156881e+04</td>\n",
       "      <td>9.361515e+03</td>\n",
       "      <td>6552.960481</td>\n",
       "      <td>639.78925</td>\n",
       "      <td>5.726457e+04</td>\n",
       "      <td>1592.459468</td>\n",
       "      <td>1.226569</td>\n",
       "      <td>0.697459</td>\n",
       "      <td>0.40108</td>\n",
       "      <td>32.181068</td>\n",
       "      <td>2.846426</td>\n",
       "    </tr>\n",
       "    <tr>\n",
       "      <th>min</th>\n",
       "      <td>1.000000</td>\n",
       "      <td>0.000000</td>\n",
       "      <td>-1.000000e+00</td>\n",
       "      <td>-1.000000e+00</td>\n",
       "      <td>-1.000000</td>\n",
       "      <td>0.00000</td>\n",
       "      <td>-1.000000e+00</td>\n",
       "      <td>0.000000</td>\n",
       "      <td>0.000000</td>\n",
       "      <td>0.000000</td>\n",
       "      <td>1.00000</td>\n",
       "      <td>0.000000</td>\n",
       "      <td>0.000000</td>\n",
       "    </tr>\n",
       "    <tr>\n",
       "      <th>25%</th>\n",
       "      <td>25000.750000</td>\n",
       "      <td>256.000000</td>\n",
       "      <td>5.900000e+01</td>\n",
       "      <td>7.000000e+01</td>\n",
       "      <td>0.000000</td>\n",
       "      <td>0.00000</td>\n",
       "      <td>1.131000e+03</td>\n",
       "      <td>0.000000</td>\n",
       "      <td>0.000000</td>\n",
       "      <td>0.000000</td>\n",
       "      <td>1.00000</td>\n",
       "      <td>39.000000</td>\n",
       "      <td>0.000000</td>\n",
       "    </tr>\n",
       "    <tr>\n",
       "      <th>50%</th>\n",
       "      <td>50000.500000</td>\n",
       "      <td>657.500000</td>\n",
       "      <td>2.570000e+02</td>\n",
       "      <td>2.400000e+02</td>\n",
       "      <td>12.000000</td>\n",
       "      <td>1.00000</td>\n",
       "      <td>5.872000e+03</td>\n",
       "      <td>0.000000</td>\n",
       "      <td>0.000000</td>\n",
       "      <td>0.000000</td>\n",
       "      <td>1.00000</td>\n",
       "      <td>64.000000</td>\n",
       "      <td>0.000000</td>\n",
       "    </tr>\n",
       "    <tr>\n",
       "      <th>75%</th>\n",
       "      <td>75000.250000</td>\n",
       "      <td>1111.000000</td>\n",
       "      <td>8.230000e+02</td>\n",
       "      <td>6.700000e+02</td>\n",
       "      <td>188.000000</td>\n",
       "      <td>5.00000</td>\n",
       "      <td>2.095200e+04</td>\n",
       "      <td>0.000000</td>\n",
       "      <td>1.000000</td>\n",
       "      <td>1.000000</td>\n",
       "      <td>1.00000</td>\n",
       "      <td>92.000000</td>\n",
       "      <td>2.000000</td>\n",
       "    </tr>\n",
       "    <tr>\n",
       "      <th>max</th>\n",
       "      <td>100000.000000</td>\n",
       "      <td>2696.000000</td>\n",
       "      <td>5.314760e+06</td>\n",
       "      <td>1.561262e+06</td>\n",
       "      <td>507045.000000</td>\n",
       "      <td>78020.00000</td>\n",
       "      <td>2.886206e+06</td>\n",
       "      <td>112088.000000</td>\n",
       "      <td>16.000000</td>\n",
       "      <td>10.000000</td>\n",
       "      <td>6.00000</td>\n",
       "      <td>160.000000</td>\n",
       "      <td>92.000000</td>\n",
       "    </tr>\n",
       "  </tbody>\n",
       "</table>\n",
       "</div>"
      ],
      "text/plain": [
       "                  id    account_age   no_follower  no_following  \\\n",
       "count  100000.000000  100000.000000  1.000000e+05  1.000000e+05   \n",
       "mean    50000.500000     728.766140  3.985661e+03  1.130066e+03   \n",
       "std     28867.657797     539.999173  6.156881e+04  9.361515e+03   \n",
       "min         1.000000       0.000000 -1.000000e+00 -1.000000e+00   \n",
       "25%     25000.750000     256.000000  5.900000e+01  7.000000e+01   \n",
       "50%     50000.500000     657.500000  2.570000e+02  2.400000e+02   \n",
       "75%     75000.250000    1111.000000  8.230000e+02  6.700000e+02   \n",
       "max    100000.000000    2696.000000  5.314760e+06  1.561262e+06   \n",
       "\n",
       "       no_userfavourites      no_lists     no_tweets    no_retweets  \\\n",
       "count      100000.000000  100000.00000  1.000000e+05  100000.000000   \n",
       "mean          885.817880      36.49020  2.309988e+04     117.052280   \n",
       "std          6552.960481     639.78925  5.726457e+04    1592.459468   \n",
       "min            -1.000000       0.00000 -1.000000e+00       0.000000   \n",
       "25%             0.000000       0.00000  1.131000e+03       0.000000   \n",
       "50%            12.000000       1.00000  5.872000e+03       0.000000   \n",
       "75%           188.000000       5.00000  2.095200e+04       0.000000   \n",
       "max        507045.000000   78020.00000  2.886206e+06  112088.000000   \n",
       "\n",
       "          no_hashtag  no_usermention       no_urls        no_char  \\\n",
       "count  100000.000000   100000.000000  100000.00000  100000.000000   \n",
       "mean        0.490910        0.380020       1.05183      65.071630   \n",
       "std         1.226569        0.697459       0.40108      32.181068   \n",
       "min         0.000000        0.000000       1.00000       0.000000   \n",
       "25%         0.000000        0.000000       1.00000      39.000000   \n",
       "50%         0.000000        0.000000       1.00000      64.000000   \n",
       "75%         1.000000        1.000000       1.00000      92.000000   \n",
       "max        16.000000       10.000000       6.00000     160.000000   \n",
       "\n",
       "           no_digits  \n",
       "count  100000.000000  \n",
       "mean        1.457350  \n",
       "std         2.846426  \n",
       "min         0.000000  \n",
       "25%         0.000000  \n",
       "50%         0.000000  \n",
       "75%         2.000000  \n",
       "max        92.000000  "
      ]
     },
     "execution_count": 7,
     "metadata": {},
     "output_type": "execute_result"
    }
   ],
   "source": [
    "df3.describe()"
   ]
  },
  {
   "cell_type": "code",
   "execution_count": 8,
   "metadata": {},
   "outputs": [
    {
     "data": {
      "text/html": [
       "<div>\n",
       "<style scoped>\n",
       "    .dataframe tbody tr th:only-of-type {\n",
       "        vertical-align: middle;\n",
       "    }\n",
       "\n",
       "    .dataframe tbody tr th {\n",
       "        vertical-align: top;\n",
       "    }\n",
       "\n",
       "    .dataframe thead th {\n",
       "        text-align: right;\n",
       "    }\n",
       "</style>\n",
       "<table border=\"1\" class=\"dataframe\">\n",
       "  <thead>\n",
       "    <tr style=\"text-align: right;\">\n",
       "      <th></th>\n",
       "      <th>id</th>\n",
       "      <th>account_age</th>\n",
       "      <th>no_follower</th>\n",
       "      <th>no_following</th>\n",
       "      <th>no_userfavourites</th>\n",
       "      <th>no_lists</th>\n",
       "      <th>no_tweets</th>\n",
       "      <th>no_retweets</th>\n",
       "      <th>no_hashtag</th>\n",
       "      <th>no_usermention</th>\n",
       "      <th>no_urls</th>\n",
       "      <th>no_char</th>\n",
       "      <th>no_digits</th>\n",
       "      <th>class</th>\n",
       "    </tr>\n",
       "  </thead>\n",
       "  <tbody>\n",
       "    <tr>\n",
       "      <th>0</th>\n",
       "      <td>1</td>\n",
       "      <td>0</td>\n",
       "      <td>120</td>\n",
       "      <td>211</td>\n",
       "      <td>3</td>\n",
       "      <td>0</td>\n",
       "      <td>180</td>\n",
       "      <td>1</td>\n",
       "      <td>1</td>\n",
       "      <td>2</td>\n",
       "      <td>1</td>\n",
       "      <td>94</td>\n",
       "      <td>1</td>\n",
       "      <td>spammer</td>\n",
       "    </tr>\n",
       "    <tr>\n",
       "      <th>1</th>\n",
       "      <td>2</td>\n",
       "      <td>707</td>\n",
       "      <td>624</td>\n",
       "      <td>428</td>\n",
       "      <td>2507</td>\n",
       "      <td>0</td>\n",
       "      <td>12881</td>\n",
       "      <td>0</td>\n",
       "      <td>0</td>\n",
       "      <td>0</td>\n",
       "      <td>1</td>\n",
       "      <td>99</td>\n",
       "      <td>6</td>\n",
       "      <td>spammer</td>\n",
       "    </tr>\n",
       "    <tr>\n",
       "      <th>2</th>\n",
       "      <td>3</td>\n",
       "      <td>121</td>\n",
       "      <td>1</td>\n",
       "      <td>515</td>\n",
       "      <td>0</td>\n",
       "      <td>0</td>\n",
       "      <td>416</td>\n",
       "      <td>0</td>\n",
       "      <td>0</td>\n",
       "      <td>0</td>\n",
       "      <td>1</td>\n",
       "      <td>37</td>\n",
       "      <td>0</td>\n",
       "      <td>spammer</td>\n",
       "    </tr>\n",
       "    <tr>\n",
       "      <th>3</th>\n",
       "      <td>4</td>\n",
       "      <td>260</td>\n",
       "      <td>5</td>\n",
       "      <td>23</td>\n",
       "      <td>0</td>\n",
       "      <td>0</td>\n",
       "      <td>1174</td>\n",
       "      <td>0</td>\n",
       "      <td>2</td>\n",
       "      <td>0</td>\n",
       "      <td>1</td>\n",
       "      <td>56</td>\n",
       "      <td>0</td>\n",
       "      <td>spammer</td>\n",
       "    </tr>\n",
       "    <tr>\n",
       "      <th>4</th>\n",
       "      <td>5</td>\n",
       "      <td>624</td>\n",
       "      <td>983</td>\n",
       "      <td>159</td>\n",
       "      <td>11</td>\n",
       "      <td>2</td>\n",
       "      <td>42533</td>\n",
       "      <td>0</td>\n",
       "      <td>1</td>\n",
       "      <td>0</td>\n",
       "      <td>1</td>\n",
       "      <td>82</td>\n",
       "      <td>6</td>\n",
       "      <td>spammer</td>\n",
       "    </tr>\n",
       "  </tbody>\n",
       "</table>\n",
       "</div>"
      ],
      "text/plain": [
       "   id  account_age  no_follower  no_following  no_userfavourites  no_lists  \\\n",
       "0   1            0          120           211                  3         0   \n",
       "1   2          707          624           428               2507         0   \n",
       "2   3          121            1           515                  0         0   \n",
       "3   4          260            5            23                  0         0   \n",
       "4   5          624          983           159                 11         2   \n",
       "\n",
       "   no_tweets  no_retweets  no_hashtag  no_usermention  no_urls  no_char  \\\n",
       "0        180            1           1               2        1       94   \n",
       "1      12881            0           0               0        1       99   \n",
       "2        416            0           0               0        1       37   \n",
       "3       1174            0           2               0        1       56   \n",
       "4      42533            0           1               0        1       82   \n",
       "\n",
       "   no_digits    class  \n",
       "0          1  spammer  \n",
       "1          6  spammer  \n",
       "2          0  spammer  \n",
       "3          0  spammer  \n",
       "4          6  spammer  "
      ]
     },
     "execution_count": 8,
     "metadata": {},
     "output_type": "execute_result"
    }
   ],
   "source": [
    "df4.head()"
   ]
  },
  {
   "cell_type": "code",
   "execution_count": 9,
   "metadata": {},
   "outputs": [
    {
     "data": {
      "text/html": [
       "<div>\n",
       "<style scoped>\n",
       "    .dataframe tbody tr th:only-of-type {\n",
       "        vertical-align: middle;\n",
       "    }\n",
       "\n",
       "    .dataframe tbody tr th {\n",
       "        vertical-align: top;\n",
       "    }\n",
       "\n",
       "    .dataframe thead th {\n",
       "        text-align: right;\n",
       "    }\n",
       "</style>\n",
       "<table border=\"1\" class=\"dataframe\">\n",
       "  <thead>\n",
       "    <tr style=\"text-align: right;\">\n",
       "      <th></th>\n",
       "      <th>id</th>\n",
       "      <th>account_age</th>\n",
       "      <th>no_follower</th>\n",
       "      <th>no_following</th>\n",
       "      <th>no_userfavourites</th>\n",
       "      <th>no_lists</th>\n",
       "      <th>no_tweets</th>\n",
       "      <th>no_retweets</th>\n",
       "      <th>no_hashtag</th>\n",
       "      <th>no_usermention</th>\n",
       "      <th>no_urls</th>\n",
       "      <th>no_char</th>\n",
       "      <th>no_digits</th>\n",
       "    </tr>\n",
       "  </thead>\n",
       "  <tbody>\n",
       "    <tr>\n",
       "      <th>count</th>\n",
       "      <td>10000.00000</td>\n",
       "      <td>10000.000000</td>\n",
       "      <td>1.000000e+04</td>\n",
       "      <td>10000.000000</td>\n",
       "      <td>10000.000000</td>\n",
       "      <td>10000.000000</td>\n",
       "      <td>1.000000e+04</td>\n",
       "      <td>10000.000000</td>\n",
       "      <td>10000.000000</td>\n",
       "      <td>10000.000000</td>\n",
       "      <td>10000.000000</td>\n",
       "      <td>10000.00000</td>\n",
       "      <td>10000.000000</td>\n",
       "    </tr>\n",
       "    <tr>\n",
       "      <th>mean</th>\n",
       "      <td>5000.50000</td>\n",
       "      <td>659.090100</td>\n",
       "      <td>2.787160e+03</td>\n",
       "      <td>1080.706100</td>\n",
       "      <td>730.414800</td>\n",
       "      <td>21.605600</td>\n",
       "      <td>1.425985e+04</td>\n",
       "      <td>499.717900</td>\n",
       "      <td>0.499400</td>\n",
       "      <td>0.391800</td>\n",
       "      <td>1.071500</td>\n",
       "      <td>65.24600</td>\n",
       "      <td>2.257800</td>\n",
       "    </tr>\n",
       "    <tr>\n",
       "      <th>std</th>\n",
       "      <td>2886.89568</td>\n",
       "      <td>528.596058</td>\n",
       "      <td>3.832586e+04</td>\n",
       "      <td>10281.993514</td>\n",
       "      <td>4310.692861</td>\n",
       "      <td>348.569682</td>\n",
       "      <td>3.712682e+04</td>\n",
       "      <td>5142.156412</td>\n",
       "      <td>1.029226</td>\n",
       "      <td>0.714243</td>\n",
       "      <td>0.328022</td>\n",
       "      <td>31.94595</td>\n",
       "      <td>3.970858</td>\n",
       "    </tr>\n",
       "    <tr>\n",
       "      <th>min</th>\n",
       "      <td>1.00000</td>\n",
       "      <td>0.000000</td>\n",
       "      <td>0.000000e+00</td>\n",
       "      <td>0.000000</td>\n",
       "      <td>0.000000</td>\n",
       "      <td>0.000000</td>\n",
       "      <td>0.000000e+00</td>\n",
       "      <td>0.000000</td>\n",
       "      <td>0.000000</td>\n",
       "      <td>0.000000</td>\n",
       "      <td>1.000000</td>\n",
       "      <td>0.00000</td>\n",
       "      <td>0.000000</td>\n",
       "    </tr>\n",
       "    <tr>\n",
       "      <th>25%</th>\n",
       "      <td>2500.75000</td>\n",
       "      <td>177.000000</td>\n",
       "      <td>1.900000e+01</td>\n",
       "      <td>62.000000</td>\n",
       "      <td>0.000000</td>\n",
       "      <td>0.000000</td>\n",
       "      <td>5.577500e+02</td>\n",
       "      <td>0.000000</td>\n",
       "      <td>0.000000</td>\n",
       "      <td>0.000000</td>\n",
       "      <td>1.000000</td>\n",
       "      <td>41.00000</td>\n",
       "      <td>0.000000</td>\n",
       "    </tr>\n",
       "    <tr>\n",
       "      <th>50%</th>\n",
       "      <td>5000.50000</td>\n",
       "      <td>574.000000</td>\n",
       "      <td>2.230000e+02</td>\n",
       "      <td>266.000000</td>\n",
       "      <td>8.000000</td>\n",
       "      <td>0.000000</td>\n",
       "      <td>2.846500e+03</td>\n",
       "      <td>0.000000</td>\n",
       "      <td>0.000000</td>\n",
       "      <td>0.000000</td>\n",
       "      <td>1.000000</td>\n",
       "      <td>61.00000</td>\n",
       "      <td>0.000000</td>\n",
       "    </tr>\n",
       "    <tr>\n",
       "      <th>75%</th>\n",
       "      <td>7500.25000</td>\n",
       "      <td>1017.000000</td>\n",
       "      <td>6.995000e+02</td>\n",
       "      <td>726.000000</td>\n",
       "      <td>182.250000</td>\n",
       "      <td>2.000000</td>\n",
       "      <td>1.284900e+04</td>\n",
       "      <td>0.000000</td>\n",
       "      <td>1.000000</td>\n",
       "      <td>1.000000</td>\n",
       "      <td>1.000000</td>\n",
       "      <td>91.00000</td>\n",
       "      <td>4.000000</td>\n",
       "    </tr>\n",
       "    <tr>\n",
       "      <th>max</th>\n",
       "      <td>10000.00000</td>\n",
       "      <td>2589.000000</td>\n",
       "      <td>1.879442e+06</td>\n",
       "      <td>738060.000000</td>\n",
       "      <td>165706.000000</td>\n",
       "      <td>26958.000000</td>\n",
       "      <td>1.036464e+06</td>\n",
       "      <td>115372.000000</td>\n",
       "      <td>14.000000</td>\n",
       "      <td>7.000000</td>\n",
       "      <td>6.000000</td>\n",
       "      <td>140.00000</td>\n",
       "      <td>56.000000</td>\n",
       "    </tr>\n",
       "  </tbody>\n",
       "</table>\n",
       "</div>"
      ],
      "text/plain": [
       "                id   account_age   no_follower   no_following  \\\n",
       "count  10000.00000  10000.000000  1.000000e+04   10000.000000   \n",
       "mean    5000.50000    659.090100  2.787160e+03    1080.706100   \n",
       "std     2886.89568    528.596058  3.832586e+04   10281.993514   \n",
       "min        1.00000      0.000000  0.000000e+00       0.000000   \n",
       "25%     2500.75000    177.000000  1.900000e+01      62.000000   \n",
       "50%     5000.50000    574.000000  2.230000e+02     266.000000   \n",
       "75%     7500.25000   1017.000000  6.995000e+02     726.000000   \n",
       "max    10000.00000   2589.000000  1.879442e+06  738060.000000   \n",
       "\n",
       "       no_userfavourites      no_lists     no_tweets    no_retweets  \\\n",
       "count       10000.000000  10000.000000  1.000000e+04   10000.000000   \n",
       "mean          730.414800     21.605600  1.425985e+04     499.717900   \n",
       "std          4310.692861    348.569682  3.712682e+04    5142.156412   \n",
       "min             0.000000      0.000000  0.000000e+00       0.000000   \n",
       "25%             0.000000      0.000000  5.577500e+02       0.000000   \n",
       "50%             8.000000      0.000000  2.846500e+03       0.000000   \n",
       "75%           182.250000      2.000000  1.284900e+04       0.000000   \n",
       "max        165706.000000  26958.000000  1.036464e+06  115372.000000   \n",
       "\n",
       "         no_hashtag  no_usermention       no_urls      no_char     no_digits  \n",
       "count  10000.000000    10000.000000  10000.000000  10000.00000  10000.000000  \n",
       "mean       0.499400        0.391800      1.071500     65.24600      2.257800  \n",
       "std        1.029226        0.714243      0.328022     31.94595      3.970858  \n",
       "min        0.000000        0.000000      1.000000      0.00000      0.000000  \n",
       "25%        0.000000        0.000000      1.000000     41.00000      0.000000  \n",
       "50%        0.000000        0.000000      1.000000     61.00000      0.000000  \n",
       "75%        1.000000        1.000000      1.000000     91.00000      4.000000  \n",
       "max       14.000000        7.000000      6.000000    140.00000     56.000000  "
      ]
     },
     "execution_count": 9,
     "metadata": {},
     "output_type": "execute_result"
    }
   ],
   "source": [
    "df4.describe()"
   ]
  },
  {
   "cell_type": "markdown",
   "metadata": {},
   "source": [
    "#### Combining Dataframe"
   ]
  },
  {
   "cell_type": "code",
   "execution_count": 10,
   "metadata": {},
   "outputs": [],
   "source": [
    "frames = [df1, df2, df3, df4]\n",
    "combined_df = pd.concat(frames)"
   ]
  },
  {
   "cell_type": "code",
   "execution_count": 11,
   "metadata": {},
   "outputs": [
    {
     "data": {
      "text/html": [
       "<div>\n",
       "<style scoped>\n",
       "    .dataframe tbody tr th:only-of-type {\n",
       "        vertical-align: middle;\n",
       "    }\n",
       "\n",
       "    .dataframe tbody tr th {\n",
       "        vertical-align: top;\n",
       "    }\n",
       "\n",
       "    .dataframe thead th {\n",
       "        text-align: right;\n",
       "    }\n",
       "</style>\n",
       "<table border=\"1\" class=\"dataframe\">\n",
       "  <thead>\n",
       "    <tr style=\"text-align: right;\">\n",
       "      <th></th>\n",
       "      <th>id</th>\n",
       "      <th>account_age</th>\n",
       "      <th>no_follower</th>\n",
       "      <th>no_following</th>\n",
       "      <th>no_userfavourites</th>\n",
       "      <th>no_lists</th>\n",
       "      <th>no_tweets</th>\n",
       "      <th>no_retweets</th>\n",
       "      <th>no_hashtag</th>\n",
       "      <th>no_usermention</th>\n",
       "      <th>no_urls</th>\n",
       "      <th>no_char</th>\n",
       "      <th>no_digits</th>\n",
       "      <th>class</th>\n",
       "    </tr>\n",
       "  </thead>\n",
       "  <tbody>\n",
       "    <tr>\n",
       "      <th>0</th>\n",
       "      <td>1</td>\n",
       "      <td>242</td>\n",
       "      <td>0</td>\n",
       "      <td>0</td>\n",
       "      <td>0</td>\n",
       "      <td>0</td>\n",
       "      <td>62</td>\n",
       "      <td>0</td>\n",
       "      <td>1</td>\n",
       "      <td>0</td>\n",
       "      <td>1</td>\n",
       "      <td>29</td>\n",
       "      <td>0</td>\n",
       "      <td>spammer</td>\n",
       "    </tr>\n",
       "    <tr>\n",
       "      <th>1</th>\n",
       "      <td>2</td>\n",
       "      <td>834</td>\n",
       "      <td>1</td>\n",
       "      <td>5</td>\n",
       "      <td>0</td>\n",
       "      <td>0</td>\n",
       "      <td>64</td>\n",
       "      <td>0</td>\n",
       "      <td>1</td>\n",
       "      <td>0</td>\n",
       "      <td>1</td>\n",
       "      <td>22</td>\n",
       "      <td>0</td>\n",
       "      <td>spammer</td>\n",
       "    </tr>\n",
       "    <tr>\n",
       "      <th>2</th>\n",
       "      <td>3</td>\n",
       "      <td>978</td>\n",
       "      <td>44</td>\n",
       "      <td>18</td>\n",
       "      <td>0</td>\n",
       "      <td>0</td>\n",
       "      <td>114</td>\n",
       "      <td>0</td>\n",
       "      <td>1</td>\n",
       "      <td>0</td>\n",
       "      <td>1</td>\n",
       "      <td>35</td>\n",
       "      <td>0</td>\n",
       "      <td>spammer</td>\n",
       "    </tr>\n",
       "    <tr>\n",
       "      <th>3</th>\n",
       "      <td>4</td>\n",
       "      <td>490</td>\n",
       "      <td>0</td>\n",
       "      <td>26</td>\n",
       "      <td>0</td>\n",
       "      <td>0</td>\n",
       "      <td>3840</td>\n",
       "      <td>0</td>\n",
       "      <td>1</td>\n",
       "      <td>0</td>\n",
       "      <td>1</td>\n",
       "      <td>38</td>\n",
       "      <td>0</td>\n",
       "      <td>spammer</td>\n",
       "    </tr>\n",
       "    <tr>\n",
       "      <th>4</th>\n",
       "      <td>5</td>\n",
       "      <td>248</td>\n",
       "      <td>0</td>\n",
       "      <td>0</td>\n",
       "      <td>0</td>\n",
       "      <td>0</td>\n",
       "      <td>72</td>\n",
       "      <td>0</td>\n",
       "      <td>1</td>\n",
       "      <td>0</td>\n",
       "      <td>1</td>\n",
       "      <td>42</td>\n",
       "      <td>4</td>\n",
       "      <td>spammer</td>\n",
       "    </tr>\n",
       "  </tbody>\n",
       "</table>\n",
       "</div>"
      ],
      "text/plain": [
       "   id  account_age  no_follower  no_following  no_userfavourites  no_lists  \\\n",
       "0   1          242            0             0                  0         0   \n",
       "1   2          834            1             5                  0         0   \n",
       "2   3          978           44            18                  0         0   \n",
       "3   4          490            0            26                  0         0   \n",
       "4   5          248            0             0                  0         0   \n",
       "\n",
       "   no_tweets  no_retweets  no_hashtag  no_usermention  no_urls  no_char  \\\n",
       "0         62            0           1               0        1       29   \n",
       "1         64            0           1               0        1       22   \n",
       "2        114            0           1               0        1       35   \n",
       "3       3840            0           1               0        1       38   \n",
       "4         72            0           1               0        1       42   \n",
       "\n",
       "   no_digits    class  \n",
       "0          0  spammer  \n",
       "1          0  spammer  \n",
       "2          0  spammer  \n",
       "3          0  spammer  \n",
       "4          4  spammer  "
      ]
     },
     "execution_count": 11,
     "metadata": {},
     "output_type": "execute_result"
    }
   ],
   "source": [
    "combined_df.head() "
   ]
  },
  {
   "cell_type": "code",
   "execution_count": 12,
   "metadata": {},
   "outputs": [
    {
     "data": {
      "text/html": [
       "<div>\n",
       "<style scoped>\n",
       "    .dataframe tbody tr th:only-of-type {\n",
       "        vertical-align: middle;\n",
       "    }\n",
       "\n",
       "    .dataframe tbody tr th {\n",
       "        vertical-align: top;\n",
       "    }\n",
       "\n",
       "    .dataframe thead th {\n",
       "        text-align: right;\n",
       "    }\n",
       "</style>\n",
       "<table border=\"1\" class=\"dataframe\">\n",
       "  <thead>\n",
       "    <tr style=\"text-align: right;\">\n",
       "      <th></th>\n",
       "      <th>id</th>\n",
       "      <th>account_age</th>\n",
       "      <th>no_follower</th>\n",
       "      <th>no_following</th>\n",
       "      <th>no_userfavourites</th>\n",
       "      <th>no_lists</th>\n",
       "      <th>no_tweets</th>\n",
       "      <th>no_retweets</th>\n",
       "      <th>no_hashtag</th>\n",
       "      <th>no_usermention</th>\n",
       "      <th>no_urls</th>\n",
       "      <th>no_char</th>\n",
       "      <th>no_digits</th>\n",
       "    </tr>\n",
       "  </thead>\n",
       "  <tbody>\n",
       "    <tr>\n",
       "      <th>count</th>\n",
       "      <td>130000.000000</td>\n",
       "      <td>130000.000000</td>\n",
       "      <td>1.300000e+05</td>\n",
       "      <td>1.300000e+05</td>\n",
       "      <td>130000.000000</td>\n",
       "      <td>130000.000000</td>\n",
       "      <td>1.300000e+05</td>\n",
       "      <td>130000.000000</td>\n",
       "      <td>130000.000000</td>\n",
       "      <td>130000.000000</td>\n",
       "      <td>130000.000000</td>\n",
       "      <td>130000.000000</td>\n",
       "      <td>130000.000000</td>\n",
       "    </tr>\n",
       "    <tr>\n",
       "      <th>mean</th>\n",
       "      <td>39615.884615</td>\n",
       "      <td>721.242369</td>\n",
       "      <td>3.734487e+03</td>\n",
       "      <td>1.109473e+03</td>\n",
       "      <td>833.983546</td>\n",
       "      <td>33.515585</td>\n",
       "      <td>2.115050e+04</td>\n",
       "      <td>171.096608</td>\n",
       "      <td>0.505623</td>\n",
       "      <td>0.368692</td>\n",
       "      <td>1.052392</td>\n",
       "      <td>64.336146</td>\n",
       "      <td>1.564715</td>\n",
       "    </tr>\n",
       "    <tr>\n",
       "      <th>std</th>\n",
       "      <td>31661.078384</td>\n",
       "      <td>535.885977</td>\n",
       "      <td>5.763247e+04</td>\n",
       "      <td>9.371570e+03</td>\n",
       "      <td>6201.853676</td>\n",
       "      <td>592.549714</td>\n",
       "      <td>5.429539e+04</td>\n",
       "      <td>2476.585055</td>\n",
       "      <td>1.181223</td>\n",
       "      <td>0.691237</td>\n",
       "      <td>0.378990</td>\n",
       "      <td>32.075272</td>\n",
       "      <td>3.038938</td>\n",
       "    </tr>\n",
       "    <tr>\n",
       "      <th>min</th>\n",
       "      <td>1.000000</td>\n",
       "      <td>0.000000</td>\n",
       "      <td>-1.000000e+00</td>\n",
       "      <td>-1.000000e+00</td>\n",
       "      <td>-1.000000</td>\n",
       "      <td>0.000000</td>\n",
       "      <td>-1.000000e+00</td>\n",
       "      <td>0.000000</td>\n",
       "      <td>0.000000</td>\n",
       "      <td>0.000000</td>\n",
       "      <td>1.000000</td>\n",
       "      <td>0.000000</td>\n",
       "      <td>0.000000</td>\n",
       "    </tr>\n",
       "    <tr>\n",
       "      <th>25%</th>\n",
       "      <td>8125.750000</td>\n",
       "      <td>251.000000</td>\n",
       "      <td>4.400000e+01</td>\n",
       "      <td>6.300000e+01</td>\n",
       "      <td>0.000000</td>\n",
       "      <td>0.000000</td>\n",
       "      <td>8.580000e+02</td>\n",
       "      <td>0.000000</td>\n",
       "      <td>0.000000</td>\n",
       "      <td>0.000000</td>\n",
       "      <td>1.000000</td>\n",
       "      <td>39.000000</td>\n",
       "      <td>0.000000</td>\n",
       "    </tr>\n",
       "    <tr>\n",
       "      <th>50%</th>\n",
       "      <td>35000.500000</td>\n",
       "      <td>653.000000</td>\n",
       "      <td>2.410000e+02</td>\n",
       "      <td>2.380000e+02</td>\n",
       "      <td>10.000000</td>\n",
       "      <td>1.000000</td>\n",
       "      <td>4.972000e+03</td>\n",
       "      <td>0.000000</td>\n",
       "      <td>0.000000</td>\n",
       "      <td>0.000000</td>\n",
       "      <td>1.000000</td>\n",
       "      <td>62.000000</td>\n",
       "      <td>0.000000</td>\n",
       "    </tr>\n",
       "    <tr>\n",
       "      <th>75%</th>\n",
       "      <td>67500.250000</td>\n",
       "      <td>1095.000000</td>\n",
       "      <td>7.830000e+02</td>\n",
       "      <td>6.660000e+02</td>\n",
       "      <td>176.000000</td>\n",
       "      <td>4.000000</td>\n",
       "      <td>1.890400e+04</td>\n",
       "      <td>0.000000</td>\n",
       "      <td>1.000000</td>\n",
       "      <td>1.000000</td>\n",
       "      <td>1.000000</td>\n",
       "      <td>91.000000</td>\n",
       "      <td>2.000000</td>\n",
       "    </tr>\n",
       "    <tr>\n",
       "      <th>max</th>\n",
       "      <td>100000.000000</td>\n",
       "      <td>2696.000000</td>\n",
       "      <td>5.314760e+06</td>\n",
       "      <td>1.561262e+06</td>\n",
       "      <td>507045.000000</td>\n",
       "      <td>78020.000000</td>\n",
       "      <td>2.886206e+06</td>\n",
       "      <td>115372.000000</td>\n",
       "      <td>16.000000</td>\n",
       "      <td>10.000000</td>\n",
       "      <td>6.000000</td>\n",
       "      <td>160.000000</td>\n",
       "      <td>92.000000</td>\n",
       "    </tr>\n",
       "  </tbody>\n",
       "</table>\n",
       "</div>"
      ],
      "text/plain": [
       "                  id    account_age   no_follower  no_following  \\\n",
       "count  130000.000000  130000.000000  1.300000e+05  1.300000e+05   \n",
       "mean    39615.884615     721.242369  3.734487e+03  1.109473e+03   \n",
       "std     31661.078384     535.885977  5.763247e+04  9.371570e+03   \n",
       "min         1.000000       0.000000 -1.000000e+00 -1.000000e+00   \n",
       "25%      8125.750000     251.000000  4.400000e+01  6.300000e+01   \n",
       "50%     35000.500000     653.000000  2.410000e+02  2.380000e+02   \n",
       "75%     67500.250000    1095.000000  7.830000e+02  6.660000e+02   \n",
       "max    100000.000000    2696.000000  5.314760e+06  1.561262e+06   \n",
       "\n",
       "       no_userfavourites       no_lists     no_tweets    no_retweets  \\\n",
       "count      130000.000000  130000.000000  1.300000e+05  130000.000000   \n",
       "mean          833.983546      33.515585  2.115050e+04     171.096608   \n",
       "std          6201.853676     592.549714  5.429539e+04    2476.585055   \n",
       "min            -1.000000       0.000000 -1.000000e+00       0.000000   \n",
       "25%             0.000000       0.000000  8.580000e+02       0.000000   \n",
       "50%            10.000000       1.000000  4.972000e+03       0.000000   \n",
       "75%           176.000000       4.000000  1.890400e+04       0.000000   \n",
       "max        507045.000000   78020.000000  2.886206e+06  115372.000000   \n",
       "\n",
       "          no_hashtag  no_usermention        no_urls        no_char  \\\n",
       "count  130000.000000   130000.000000  130000.000000  130000.000000   \n",
       "mean        0.505623        0.368692       1.052392      64.336146   \n",
       "std         1.181223        0.691237       0.378990      32.075272   \n",
       "min         0.000000        0.000000       1.000000       0.000000   \n",
       "25%         0.000000        0.000000       1.000000      39.000000   \n",
       "50%         0.000000        0.000000       1.000000      62.000000   \n",
       "75%         1.000000        1.000000       1.000000      91.000000   \n",
       "max        16.000000       10.000000       6.000000     160.000000   \n",
       "\n",
       "           no_digits  \n",
       "count  130000.000000  \n",
       "mean        1.564715  \n",
       "std         3.038938  \n",
       "min         0.000000  \n",
       "25%         0.000000  \n",
       "50%         0.000000  \n",
       "75%         2.000000  \n",
       "max        92.000000  "
      ]
     },
     "execution_count": 12,
     "metadata": {},
     "output_type": "execute_result"
    }
   ],
   "source": [
    "combined_df.describe()"
   ]
  },
  {
   "cell_type": "code",
   "execution_count": 13,
   "metadata": {},
   "outputs": [
    {
     "data": {
      "text/plain": [
       "130000"
      ]
     },
     "execution_count": 13,
     "metadata": {},
     "output_type": "execute_result"
    }
   ],
   "source": [
    "len(combined_df)"
   ]
  },
  {
   "cell_type": "code",
   "execution_count": 14,
   "metadata": {},
   "outputs": [
    {
     "data": {
      "text/plain": [
       "array(['spammer', 'non-spammer'], dtype=object)"
      ]
     },
     "execution_count": 14,
     "metadata": {},
     "output_type": "execute_result"
    }
   ],
   "source": [
    "combined_df['class'].unique()"
   ]
  },
  {
   "cell_type": "code",
   "execution_count": 15,
   "metadata": {},
   "outputs": [
    {
     "data": {
      "text/plain": [
       "Index(['id', 'account_age', 'no_follower', 'no_following', 'no_userfavourites',\n",
       "       'no_lists', 'no_tweets', 'no_retweets', 'no_hashtag', 'no_usermention',\n",
       "       'no_urls', 'no_char', 'no_digits', 'class'],\n",
       "      dtype='object')"
      ]
     },
     "execution_count": 15,
     "metadata": {},
     "output_type": "execute_result"
    }
   ],
   "source": [
    "combined_df.columns"
   ]
  },
  {
   "cell_type": "markdown",
   "metadata": {},
   "source": [
    "#### Data Visualization "
   ]
  },
  {
   "cell_type": "code",
   "execution_count": 16,
   "metadata": {},
   "outputs": [
    {
     "data": {
      "text/plain": [
       "Text(0.5,1,'Number of ham and spam messages')"
      ]
     },
     "execution_count": 16,
     "metadata": {},
     "output_type": "execute_result"
    },
    {
     "data": {
      "image/png": "[encoded data removed]",
      "text/plain": [
       "<Figure size 432x288 with 1 Axes>"
      ]
     },
     "metadata": {},
     "output_type": "display_data"
    }
   ],
   "source": [
    "sns.countplot(combined_df['class'])\n",
    "plt.xlabel('Label')\n",
    "plt.title('Number of ham and spam messages')"
   ]
  },
  {
   "cell_type": "code",
   "execution_count": 19,
   "metadata": {},
   "outputs": [
    {
     "name": "stdout",
     "output_type": "stream",
     "text": [
      "Count plot for ' account_age ' feature, based on Spam/ Ham tweet label\n"
     ]
    },
    {
     "data": {
      "image/png": "[encoded data removed]",
      "text/plain": [
       "<Figure size 864x576 with 1 Axes>"
      ]
     },
     "metadata": {},
     "output_type": "display_data"
    },
    {
     "name": "stdout",
     "output_type": "stream",
     "text": [
      "\n",
      "\n"
     ]
    }
   ],
   "source": [
    "plt.figure(figsize=(12,8))\n",
    "plt.ylim(0, 250)\n",
    "plt.xlim(0, None)\n",
    "print(\"Count plot for\",\"'\",\"account_age\",\"' feature, based on Spam/ Ham tweet label\")\n",
    "sns.countplot(\"account_age\",hue=combined_df['class'],data=combined_df)\n",
    "plt.show()\n",
    "print(\"\\n\")"
   ]
  },
  {
   "cell_type": "code",
   "execution_count": 20,
   "metadata": {},
   "outputs": [
    {
     "name": "stdout",
     "output_type": "stream",
     "text": [
      "Count plot for ' no_follower ' feature, based on Spam/ Ham tweet label\n"
     ]
    },
    {
     "data": {
      "image/png": "[encoded data removed]",
      "text/plain": [
       "<Figure size 864x576 with 1 Axes>"
      ]
     },
     "metadata": {},
     "output_type": "display_data"
    },
    {
     "name": "stdout",
     "output_type": "stream",
     "text": [
      "\n",
      "\n"
     ]
    }
   ],
   "source": [
    "plt.figure(figsize=(12,8))\n",
    "plt.ylim(0, 500)\n",
    "plt.xlim(0, None)\n",
    "print(\"Count plot for\",\"'\",\"no_follower\",\"' feature, based on Spam/ Ham tweet label\")\n",
    "sns.countplot(\"no_follower\",hue=combined_df['class'],data=combined_df)\n",
    "plt.show()\n",
    "print(\"\\n\")"
   ]
  },
  {
   "cell_type": "code",
   "execution_count": 21,
   "metadata": {},
   "outputs": [
    {
     "name": "stdout",
     "output_type": "stream",
     "text": [
      "Count plot for ' no_following ' feature, based on Spam/ Ham tweet label\n"
     ]
    },
    {
     "data": {
      "image/png": "[encoded data removed]",
      "text/plain": [
       "<Figure size 864x576 with 1 Axes>"
      ]
     },
     "metadata": {},
     "output_type": "display_data"
    },
    {
     "name": "stdout",
     "output_type": "stream",
     "text": [
      "\n",
      "\n"
     ]
    }
   ],
   "source": [
    "plt.figure(figsize=(12,8))\n",
    "plt.ylim(0, 400)\n",
    "plt.xlim(0, None)\n",
    "print(\"Count plot for\",\"'\",\"no_following\",\"' feature, based on Spam/ Ham tweet label\")\n",
    "sns.countplot(\"no_following\",hue=combined_df['class'],data=combined_df)\n",
    "plt.show()\n",
    "print(\"\\n\")"
   ]
  },
  {
   "cell_type": "code",
   "execution_count": 22,
   "metadata": {},
   "outputs": [
    {
     "name": "stdout",
     "output_type": "stream",
     "text": [
      "Count plot for ' no_userfavourites ' feature, based on Spam/ Ham tweet label\n"
     ]
    },
    {
     "data": {
      "image/png": "[encoded data removed]",
      "text/plain": [
       "<Figure size 864x576 with 1 Axes>"
      ]
     },
     "metadata": {},
     "output_type": "display_data"
    },
    {
     "name": "stdout",
     "output_type": "stream",
     "text": [
      "\n",
      "\n"
     ]
    }
   ],
   "source": [
    "plt.figure(figsize=(12,8))\n",
    "plt.ylim(0, 400)\n",
    "plt.xlim(0, None)\n",
    "print(\"Count plot for\",\"'\",\"no_userfavourites\",\"' feature, based on Spam/ Ham tweet label\")\n",
    "sns.countplot(\"no_userfavourites\",hue=combined_df['class'],data=combined_df)\n",
    "plt.show()\n",
    "print(\"\\n\")"
   ]
  },
  {
   "cell_type": "code",
   "execution_count": 23,
   "metadata": {},
   "outputs": [
    {
     "name": "stdout",
     "output_type": "stream",
     "text": [
      "Count plot for ' no_lists ' feature, based on Spam/ Ham tweet label\n"
     ]
    },
    {
     "data": {
      "image/png": "[encoded data removed]",
      "text/plain": [
       "<Figure size 864x576 with 1 Axes>"
      ]
     },
     "metadata": {},
     "output_type": "display_data"
    },
    {
     "name": "stdout",
     "output_type": "stream",
     "text": [
      "\n",
      "\n"
     ]
    }
   ],
   "source": [
    "plt.figure(figsize=(12,8))\n",
    "plt.ylim(0, 1000)\n",
    "plt.xlim(0, None)\n",
    "print(\"Count plot for\",\"'\",\"no_lists\",\"' feature, based on Spam/ Ham tweet label\")\n",
    "sns.countplot(\"no_lists\",hue=combined_df['class'],data=combined_df)\n",
    "plt.show()\n",
    "print(\"\\n\")"
   ]
  },
  {
   "cell_type": "code",
   "execution_count": 25,
   "metadata": {},
   "outputs": [],
   "source": [
    "# plt.figure(figsize=(12,8))\n",
    "# plt.ylim(0, 500)\n",
    "# plt.xlim(0, None)\n",
    "# print(\"Count plot for\",\"'\",\"no_tweets\",\"' feature, based on Spam/ Ham tweet label\")\n",
    "# sns.countplot(\"no_tweets\",hue=combined_df['class'],data=combined_df)\n",
    "# plt.show()\n",
    "# print(\"\\n\")"
   ]
  },
  {
   "cell_type": "code",
   "execution_count": 26,
   "metadata": {},
   "outputs": [],
   "source": [
    "# plt.figure(figsize=(12,8))\n",
    "# plt.ylim(0, 500)\n",
    "# plt.xlim(0, None)\n",
    "# print(\"Count plot for\",\"'\",\"no_retweets\",\"' feature, based on Spam/ Ham tweet label\")\n",
    "# sns.countplot(\"no_retweets\",hue=combined_df['class'],data=combined_df)\n",
    "# plt.show()\n",
    "# print(\"\\n\")"
   ]
  },
  {
   "cell_type": "code",
   "execution_count": 27,
   "metadata": {},
   "outputs": [],
   "source": [
    "# plt.figure(figsize=(12,8))\n",
    "# plt.ylim(0, 500)\n",
    "# plt.xlim(0, None)\n",
    "# print(\"Count plot for\",\"'\",\"no_hashtag\",\"' feature, based on Spam/ Ham tweet label\")\n",
    "# sns.countplot(\"no_hashtag\",hue=combined_df['class'],data=combined_df)\n",
    "# plt.show()\n",
    "# print(\"\\n\")"
   ]
  },
  {
   "cell_type": "code",
   "execution_count": 28,
   "metadata": {},
   "outputs": [],
   "source": [
    "# plt.figure(figsize=(12,8))\n",
    "# plt.ylim(0, 500)\n",
    "# plt.xlim(0, None)\n",
    "# print(\"Count plot for\",\"'\",\"no_usermention\",\"' feature, based on Spam/ Ham tweet label\")\n",
    "# sns.countplot(\"no_usermention\",hue=combined_df['class'],data=combined_df)\n",
    "# plt.show()\n",
    "# print(\"\\n\")"
   ]
  },
  {
   "cell_type": "code",
   "execution_count": 29,
   "metadata": {},
   "outputs": [],
   "source": [
    "# plt.figure(figsize=(12,8))\n",
    "# plt.ylim(0, 500)\n",
    "# plt.xlim(0, None)\n",
    "# print(\"Count plot for\",\"'\",\"no_urls\",\"' feature, based on Spam/ Ham tweet label\")\n",
    "# sns.countplot(\"no_urls\",hue=combined_df['class'],data=combined_df)\n",
    "# plt.show()\n",
    "# print(\"\\n\")"
   ]
  },
  {
   "cell_type": "code",
   "execution_count": 30,
   "metadata": {},
   "outputs": [],
   "source": [
    "# plt.figure(figsize=(12,8))\n",
    "# plt.ylim(0, 500)\n",
    "# plt.xlim(0, None)\n",
    "# print(\"Count plot for\",\"'\",\"no_char\",\"' feature, based on Spam/ Ham tweet label\")\n",
    "# sns.countplot(\"no_char\",hue=combined_df['class'],data=combined_df)\n",
    "# plt.show()\n",
    "# print(\"\\n\")"
   ]
  },
  {
   "cell_type": "code",
   "execution_count": 31,
   "metadata": {},
   "outputs": [],
   "source": [
    "# plt.figure(figsize=(12,8))\n",
    "# #print(\"Count plot for\",\"'\",cols[i],\"' feature, based on Spam/ Ham tweet label\")\n",
    "# sns.countplot(\"no_digits\",hue=combined_df['class'],data=combined_df)\n",
    "# plt.show()\n",
    "# print(\"\\n\")"
   ]
  },
  {
   "cell_type": "markdown",
   "metadata": {},
   "source": [
    "#### Spliting Data, Preprocessing, Transforming "
   ]
  },
  {
   "cell_type": "code",
   "execution_count": 32,
   "metadata": {},
   "outputs": [],
   "source": [
    "combined_df = combined_df.replace({'class':{'spammer': 1, 'non-spammer': 0}})"
   ]
  },
  {
   "cell_type": "code",
   "execution_count": 33,
   "metadata": {},
   "outputs": [],
   "source": [
    "X = combined_df.iloc[:,0:13]\n",
    "y = combined_df.iloc[:,13]"
   ]
  },
  {
   "cell_type": "code",
   "execution_count": 34,
   "metadata": {},
   "outputs": [
    {
     "data": {
      "text/html": [
       "<div>\n",
       "<style scoped>\n",
       "    .dataframe tbody tr th:only-of-type {\n",
       "        vertical-align: middle;\n",
       "    }\n",
       "\n",
       "    .dataframe tbody tr th {\n",
       "        vertical-align: top;\n",
       "    }\n",
       "\n",
       "    .dataframe thead th {\n",
       "        text-align: right;\n",
       "    }\n",
       "</style>\n",
       "<table border=\"1\" class=\"dataframe\">\n",
       "  <thead>\n",
       "    <tr style=\"text-align: right;\">\n",
       "      <th></th>\n",
       "      <th>id</th>\n",
       "      <th>account_age</th>\n",
       "      <th>no_follower</th>\n",
       "      <th>no_following</th>\n",
       "      <th>no_userfavourites</th>\n",
       "      <th>no_lists</th>\n",
       "      <th>no_tweets</th>\n",
       "      <th>no_retweets</th>\n",
       "      <th>no_hashtag</th>\n",
       "      <th>no_usermention</th>\n",
       "      <th>no_urls</th>\n",
       "      <th>no_char</th>\n",
       "      <th>no_digits</th>\n",
       "    </tr>\n",
       "  </thead>\n",
       "  <tbody>\n",
       "    <tr>\n",
       "      <th>0</th>\n",
       "      <td>1</td>\n",
       "      <td>242</td>\n",
       "      <td>0</td>\n",
       "      <td>0</td>\n",
       "      <td>0</td>\n",
       "      <td>0</td>\n",
       "      <td>62</td>\n",
       "      <td>0</td>\n",
       "      <td>1</td>\n",
       "      <td>0</td>\n",
       "      <td>1</td>\n",
       "      <td>29</td>\n",
       "      <td>0</td>\n",
       "    </tr>\n",
       "    <tr>\n",
       "      <th>1</th>\n",
       "      <td>2</td>\n",
       "      <td>834</td>\n",
       "      <td>1</td>\n",
       "      <td>5</td>\n",
       "      <td>0</td>\n",
       "      <td>0</td>\n",
       "      <td>64</td>\n",
       "      <td>0</td>\n",
       "      <td>1</td>\n",
       "      <td>0</td>\n",
       "      <td>1</td>\n",
       "      <td>22</td>\n",
       "      <td>0</td>\n",
       "    </tr>\n",
       "    <tr>\n",
       "      <th>2</th>\n",
       "      <td>3</td>\n",
       "      <td>978</td>\n",
       "      <td>44</td>\n",
       "      <td>18</td>\n",
       "      <td>0</td>\n",
       "      <td>0</td>\n",
       "      <td>114</td>\n",
       "      <td>0</td>\n",
       "      <td>1</td>\n",
       "      <td>0</td>\n",
       "      <td>1</td>\n",
       "      <td>35</td>\n",
       "      <td>0</td>\n",
       "    </tr>\n",
       "    <tr>\n",
       "      <th>3</th>\n",
       "      <td>4</td>\n",
       "      <td>490</td>\n",
       "      <td>0</td>\n",
       "      <td>26</td>\n",
       "      <td>0</td>\n",
       "      <td>0</td>\n",
       "      <td>3840</td>\n",
       "      <td>0</td>\n",
       "      <td>1</td>\n",
       "      <td>0</td>\n",
       "      <td>1</td>\n",
       "      <td>38</td>\n",
       "      <td>0</td>\n",
       "    </tr>\n",
       "    <tr>\n",
       "      <th>4</th>\n",
       "      <td>5</td>\n",
       "      <td>248</td>\n",
       "      <td>0</td>\n",
       "      <td>0</td>\n",
       "      <td>0</td>\n",
       "      <td>0</td>\n",
       "      <td>72</td>\n",
       "      <td>0</td>\n",
       "      <td>1</td>\n",
       "      <td>0</td>\n",
       "      <td>1</td>\n",
       "      <td>42</td>\n",
       "      <td>4</td>\n",
       "    </tr>\n",
       "  </tbody>\n",
       "</table>\n",
       "</div>"
      ],
      "text/plain": [
       "   id  account_age  no_follower  no_following  no_userfavourites  no_lists  \\\n",
       "0   1          242            0             0                  0         0   \n",
       "1   2          834            1             5                  0         0   \n",
       "2   3          978           44            18                  0         0   \n",
       "3   4          490            0            26                  0         0   \n",
       "4   5          248            0             0                  0         0   \n",
       "\n",
       "   no_tweets  no_retweets  no_hashtag  no_usermention  no_urls  no_char  \\\n",
       "0         62            0           1               0        1       29   \n",
       "1         64            0           1               0        1       22   \n",
       "2        114            0           1               0        1       35   \n",
       "3       3840            0           1               0        1       38   \n",
       "4         72            0           1               0        1       42   \n",
       "\n",
       "   no_digits  \n",
       "0          0  \n",
       "1          0  \n",
       "2          0  \n",
       "3          0  \n",
       "4          4  "
      ]
     },
     "execution_count": 34,
     "metadata": {},
     "output_type": "execute_result"
    }
   ],
   "source": [
    "X.head()"
   ]
  },
  {
   "cell_type": "code",
   "execution_count": 35,
   "metadata": {},
   "outputs": [
    {
     "data": {
      "text/plain": [
       "0    1\n",
       "1    1\n",
       "2    1\n",
       "3    1\n",
       "4    1\n",
       "Name: class, dtype: int64"
      ]
     },
     "execution_count": 35,
     "metadata": {},
     "output_type": "execute_result"
    }
   ],
   "source": [
    "y.head()"
   ]
  },
  {
   "cell_type": "code",
   "execution_count": 36,
   "metadata": {},
   "outputs": [
    {
     "name": "stderr",
     "output_type": "stream",
     "text": [
      "C:\\Users\\Pradeep Kumar\\Anaconda3\\envs\\tensorflow\\lib\\site-packages\\sklearn\\cross_validation.py:41: DeprecationWarning: This module was deprecated in version 0.18 in favor of the model_selection module into which all the refactored classes and functions are moved. Also note that the interface of the new CV iterators are different from that of this module. This module will be removed in 0.20.\n",
      "  \"This module will be removed in 0.20.\", DeprecationWarning)\n"
     ]
    }
   ],
   "source": [
    "from sklearn.cross_validation import train_test_split\n",
    "X_train, X_test, y_train, y_test = train_test_split(X, y, test_size=0.1, random_state=33)"
   ]
  },
  {
   "cell_type": "code",
   "execution_count": 37,
   "metadata": {},
   "outputs": [],
   "source": [
    "import numpy as np"
   ]
  },
  {
   "cell_type": "code",
   "execution_count": 38,
   "metadata": {},
   "outputs": [],
   "source": [
    "from sklearn.preprocessing import StandardScaler\n",
    "sc = StandardScaler()\n",
    "X_train = sc.fit_transform(X_train)\n",
    "X_test = sc.fit_transform(X_test)\n",
    "#y_train = sc.fit_transform(np.array(y_train).reshape(-1,1))\n",
    "#y_test = sc.fit_transform(np.array(y_test).reshape(-1,1))"
   ]
  },
  {
   "cell_type": "markdown",
   "metadata": {},
   "source": [
    "#### SVM Classifier"
   ]
  },
  {
   "cell_type": "code",
   "execution_count": 39,
   "metadata": {},
   "outputs": [],
   "source": [
    "from sklearn.svm import SVC\n",
    "model1 = SVC()\n",
    "from sklearn.metrics import precision_recall_fscore_support as score\n",
    "from sklearn.metrics import confusion_matrix\n",
    "import seaborn as sn"
   ]
  },
  {
   "cell_type": "code",
   "execution_count": 40,
   "metadata": {},
   "outputs": [
    {
     "name": "stdout",
     "output_type": "stream",
     "text": [
      "\n",
      " Accuracy for training : 99.32820512820513 %\n",
      "\n",
      " Accuracy for testing : 99.23846153846154 %\n",
      "\n",
      " Confusion Matrix: \n",
      "\n",
      "[[10948    18]\n",
      " [   81  1953]]\n",
      "\n",
      " TABLE: \n",
      "\n",
      "  Label  Precision    FScore    Recall  Support\n",
      "0     0   0.992656  0.995499  0.998359    10966\n",
      "1     1   0.990868  0.975281  0.960177     2034\n",
      "\n",
      " HEAT MAP: \n"
     ]
    },
    {
     "data": {
      "text/plain": [
       "<matplotlib.axes._subplots.AxesSubplot at 0x28b7dc8fc18>"
      ]
     },
     "execution_count": 40,
     "metadata": {},
     "output_type": "execute_result"
    },
    {
     "data": {
      "image/png": "[encoded data removed]",
      "text/plain": [
       "<Figure size 432x288 with 2 Axes>"
      ]
     },
     "metadata": {},
     "output_type": "display_data"
    }
   ],
   "source": [
    "model1.fit(X_train,y_train)\n",
    "pred1 = model1.predict(X_test) \n",
    "cm1 = confusion_matrix(y_test, pred1)\n",
    "print(\"\\n Accuracy for training :\", model1.score(X_train,y_train)*100, \"%\")\n",
    "print(\"\\n Accuracy for testing :\", model1.score(X_test,y_test)*100, \"%\")\n",
    "print(\"\\n Confusion Matrix: \\n\")\n",
    "print(cm1)\n",
    "print(\"\\n TABLE: \\n\")\n",
    "\n",
    "precision, recall, fscore, support = score(y_test, pred1)\n",
    "df_tab1 = pd.DataFrame({'Label' : ['0','1'], 'Precision' : precision, 'Recall': recall, 'FScore' : fscore, 'Support' : support})\n",
    "df_tab1 = df_tab1[['Label', 'Precision', 'FScore', 'Recall', 'Support']]\n",
    "print(df_tab1)\n",
    "\n",
    "\n",
    "print(\"\\n HEAT MAP: \")\n",
    "\n",
    "df_cm1 = pd.DataFrame(cm1, range(2),range(2))\n",
    "sn.set(font_scale=1.4)#for label size\n",
    "sn.heatmap(df_cm1, annot=True,annot_kws={\"size\": 10})# font size"
   ]
  },
  {
   "cell_type": "markdown",
   "metadata": {},
   "source": [
    "#### Decision Tree Classifier"
   ]
  },
  {
   "cell_type": "code",
   "execution_count": 41,
   "metadata": {},
   "outputs": [
    {
     "name": "stdout",
     "output_type": "stream",
     "text": [
      "\n",
      " Accuracy for testing : 99.63846153846154 %\n",
      "\n",
      " Confusion Matrix: \n",
      "\n",
      "[[10966     0]\n",
      " [   47  1987]]\n",
      "\n",
      " TABLE: \n",
      "\n",
      "  Label  Precision    FScore    Recall  Support\n",
      "0     0   0.995732  0.997862  1.000000    10966\n",
      "1     1   1.000000  0.988311  0.976893     2034\n",
      "\n",
      " HEAT MAP: \n"
     ]
    },
    {
     "data": {
      "text/plain": [
       "<matplotlib.axes._subplots.AxesSubplot at 0x28b6c512898>"
      ]
     },
     "execution_count": 41,
     "metadata": {},
     "output_type": "execute_result"
    },
    {
     "data": {
      "image/png": "[encoded data removed]",
      "text/plain": [
       "<Figure size 432x288 with 2 Axes>"
      ]
     },
     "metadata": {},
     "output_type": "display_data"
    }
   ],
   "source": [
    "from sklearn.tree import DecisionTreeClassifier\n",
    "model2 = DecisionTreeClassifier()\n",
    "model2.fit(X_train,y_train)\n",
    "pred1 = model2.predict(X_test) \n",
    "cm1 = confusion_matrix(y_test, pred1)\n",
    "#print(\"\\n Accuracy for training :\", model2.score(X_train,y_train)*100, \"%\")\n",
    "print(\"\\n Accuracy for testing :\", model2.score(X_test,y_test)*100, \"%\")\n",
    "print(\"\\n Confusion Matrix: \\n\")\n",
    "print(cm1)\n",
    "print(\"\\n TABLE: \\n\")\n",
    "\n",
    "precision, recall, fscore, support = score(y_test, pred1)\n",
    "df_tab1 = pd.DataFrame({'Label' : ['0','1'], 'Precision' : precision, 'Recall': recall, 'FScore' : fscore, 'Support' : support})\n",
    "df_tab1 = df_tab1[['Label', 'Precision', 'FScore', 'Recall', 'Support']]\n",
    "print(df_tab1)\n",
    "\n",
    "\n",
    "print(\"\\n HEAT MAP: \")\n",
    "\n",
    "df_cm1 = pd.DataFrame(cm1, range(2),range(2))\n",
    "sn.set(font_scale=1.4)#for label size\n",
    "sn.heatmap(df_cm1, annot=True,annot_kws={\"size\": 10})# font size"
   ]
  },
  {
   "cell_type": "markdown",
   "metadata": {},
   "source": [
    "#### Naive Bayes"
   ]
  },
  {
   "cell_type": "code",
   "execution_count": 42,
   "metadata": {},
   "outputs": [
    {
     "name": "stdout",
     "output_type": "stream",
     "text": [
      "\n",
      " Accuracy for training : 92.14700854700854 %\n",
      "\n",
      " Accuracy for testing : 92.92307692307692 %\n",
      "\n",
      " Confusion Matrix: \n",
      "\n",
      "[[10092   874]\n",
      " [   46  1988]]\n",
      "\n",
      " TABLE: \n",
      "\n",
      "  Label  Precision    FScore    Recall  Support\n",
      "0    -1   0.995463  0.956406  0.920299    10966\n",
      "1     1   0.694619  0.812092  0.977384     2034\n",
      "\n",
      " HEAT MAP: \n"
     ]
    },
    {
     "data": {
      "text/plain": [
       "<matplotlib.axes._subplots.AxesSubplot at 0x28b6c6e7be0>"
      ]
     },
     "execution_count": 42,
     "metadata": {},
     "output_type": "execute_result"
    },
    {
     "data": {
      "image/png": "[encoded data removed]",
      "text/plain": [
       "<Figure size 432x288 with 2 Axes>"
      ]
     },
     "metadata": {},
     "output_type": "display_data"
    }
   ],
   "source": [
    "from sklearn.naive_bayes import GaussianNB\n",
    "model3 = GaussianNB()\n",
    "model3.fit(X_train,y_train)\n",
    "pred1 = model3.predict(X_test) \n",
    "cm1 = confusion_matrix(y_test, pred1)\n",
    "print(\"\\n Accuracy for training :\", model3.score(X_train,y_train)*100, \"%\")\n",
    "print(\"\\n Accuracy for testing :\", model3.score(X_test,y_test)*100, \"%\")\n",
    "print(\"\\n Confusion Matrix: \\n\")\n",
    "print(cm1)\n",
    "print(\"\\n TABLE: \\n\")\n",
    "\n",
    "precision, recall, fscore, support = score(y_test, pred1)\n",
    "df_tab1 = pd.DataFrame({'Label' : ['-1','1'], 'Precision' : precision, 'Recall': recall, 'FScore' : fscore, 'Support' : support})\n",
    "df_tab1 = df_tab1[['Label', 'Precision', 'FScore', 'Recall', 'Support']]\n",
    "print(df_tab1)\n",
    "\n",
    "\n",
    "print(\"\\n HEAT MAP: \")\n",
    "\n",
    "df_cm1 = pd.DataFrame(cm1, range(2),range(2))\n",
    "sn.set(font_scale=1.4)#for label size\n",
    "sn.heatmap(df_cm1, annot=True,annot_kws={\"size\": 10})# font size"
   ]
  },
  {
   "cell_type": "markdown",
   "metadata": {},
   "source": [
    "#### Random Forest Classifier"
   ]
  },
  {
   "cell_type": "code",
   "execution_count": 43,
   "metadata": {},
   "outputs": [
    {
     "name": "stderr",
     "output_type": "stream",
     "text": [
      "C:\\Users\\Pradeep Kumar\\Anaconda3\\envs\\tensorflow\\lib\\site-packages\\sklearn\\ensemble\\weight_boosting.py:29: DeprecationWarning: numpy.core.umath_tests is an internal NumPy module and should not be imported. It will be removed in a future NumPy release.\n",
      "  from numpy.core.umath_tests import inner1d\n"
     ]
    },
    {
     "name": "stdout",
     "output_type": "stream",
     "text": [
      "\n",
      " Accuracy for testing : 99.63846153846154 %\n",
      "\n",
      " Confusion Matrix: \n",
      "\n",
      "[[10966     0]\n",
      " [   47  1987]]\n",
      "\n",
      " TABLE: \n",
      "\n",
      "  Label  Precision    FScore    Recall  Support\n",
      "0    -1   0.995732  0.997862  1.000000    10966\n",
      "1     1   1.000000  0.988311  0.976893     2034\n",
      "\n",
      " HEAT MAP: \n"
     ]
    },
    {
     "data": {
      "text/plain": [
       "<matplotlib.axes._subplots.AxesSubplot at 0x28b6e261198>"
      ]
     },
     "execution_count": 43,
     "metadata": {},
     "output_type": "execute_result"
    },
    {
     "data": {
      "image/png": "[encoded data removed]",
      "text/plain": [
       "<Figure size 432x288 with 2 Axes>"
      ]
     },
     "metadata": {},
     "output_type": "display_data"
    }
   ],
   "source": [
    "from sklearn.ensemble import RandomForestClassifier\n",
    "model4 = RandomForestClassifier()\n",
    "model4.fit(X_train,y_train)\n",
    "pred1 = model4.predict(X_test) \n",
    "cm1 = confusion_matrix(y_test, pred1)\n",
    "#print(\"\\n Accuracy for training :\", model4.score(X_train,y_train)*100, \"%\")\n",
    "print(\"\\n Accuracy for testing :\", model4.score(X_test,y_test)*100, \"%\")\n",
    "print(\"\\n Confusion Matrix: \\n\")\n",
    "print(cm1)\n",
    "print(\"\\n TABLE: \\n\")\n",
    "\n",
    "precision, recall, fscore, support = score(y_test, pred1)\n",
    "df_tab1 = pd.DataFrame({'Label' : ['-1','1'], 'Precision' : precision, 'Recall': recall, 'FScore' : fscore, 'Support' : support})\n",
    "df_tab1 = df_tab1[['Label', 'Precision', 'FScore', 'Recall', 'Support']]\n",
    "print(df_tab1)\n",
    "\n",
    "\n",
    "print(\"\\n HEAT MAP: \")\n",
    "\n",
    "df_cm1 = pd.DataFrame(cm1, range(2),range(2))\n",
    "sn.set(font_scale=1.4)#for label size\n",
    "sn.heatmap(df_cm1, annot=True,annot_kws={\"size\": 10})# font size"
   ]
  },
  {
   "cell_type": "markdown",
   "metadata": {},
   "source": [
    "## Natural Language And Text Processing in SMS Dataset"
   ]
  },
  {
   "cell_type": "markdown",
   "metadata": {},
   "source": [
    "#### Importing and parsing text messages"
   ]
  },
  {
   "cell_type": "code",
   "execution_count": 44,
   "metadata": {},
   "outputs": [],
   "source": [
    "import re\n",
    "pattern = re.compile(r'(spam|ham)\\s(.*?)\\n')\n",
    "lbl = []\n",
    "txt = []\n",
    "with open('SMSSpamCollection', 'r') as f:\n",
    "    contents = f.read()\n",
    "\n",
    "matches = pattern.finditer(contents)\n",
    "\n",
    "for match in matches :\n",
    "    lbl.append(match.group(1))\n",
    "    txt.append(match.group(2))\n",
    "    \n",
    "    "
   ]
  },
  {
   "cell_type": "code",
   "execution_count": 45,
   "metadata": {},
   "outputs": [
    {
     "data": {
      "text/html": [
       "<div>\n",
       "<style scoped>\n",
       "    .dataframe tbody tr th:only-of-type {\n",
       "        vertical-align: middle;\n",
       "    }\n",
       "\n",
       "    .dataframe tbody tr th {\n",
       "        vertical-align: top;\n",
       "    }\n",
       "\n",
       "    .dataframe thead th {\n",
       "        text-align: right;\n",
       "    }\n",
       "</style>\n",
       "<table border=\"1\" class=\"dataframe\">\n",
       "  <thead>\n",
       "    <tr style=\"text-align: right;\">\n",
       "      <th></th>\n",
       "      <th>label</th>\n",
       "      <th>text</th>\n",
       "    </tr>\n",
       "  </thead>\n",
       "  <tbody>\n",
       "    <tr>\n",
       "      <th>0</th>\n",
       "      <td>ham</td>\n",
       "      <td>Go until jurong point, crazy.. Available only ...</td>\n",
       "    </tr>\n",
       "    <tr>\n",
       "      <th>1</th>\n",
       "      <td>ham</td>\n",
       "      <td>Ok lar... Joking wif u oni...</td>\n",
       "    </tr>\n",
       "    <tr>\n",
       "      <th>2</th>\n",
       "      <td>spam</td>\n",
       "      <td>Free entry in 2 a wkly comp to win FA Cup fina...</td>\n",
       "    </tr>\n",
       "    <tr>\n",
       "      <th>3</th>\n",
       "      <td>ham</td>\n",
       "      <td>U dun say so early hor... U c already then say...</td>\n",
       "    </tr>\n",
       "    <tr>\n",
       "      <th>4</th>\n",
       "      <td>ham</td>\n",
       "      <td>Nah I don't think he goes to usf, he lives aro...</td>\n",
       "    </tr>\n",
       "  </tbody>\n",
       "</table>\n",
       "</div>"
      ],
      "text/plain": [
       "  label                                               text\n",
       "0   ham  Go until jurong point, crazy.. Available only ...\n",
       "1   ham                      Ok lar... Joking wif u oni...\n",
       "2  spam  Free entry in 2 a wkly comp to win FA Cup fina...\n",
       "3   ham  U dun say so early hor... U c already then say...\n",
       "4   ham  Nah I don't think he goes to usf, he lives aro..."
      ]
     },
     "execution_count": 45,
     "metadata": {},
     "output_type": "execute_result"
    }
   ],
   "source": [
    "import pandas as pd\n",
    "sms_spam_df = pd.DataFrame({\"label\":lbl, \"text\": txt})\n",
    "sms_spam_df.head()"
   ]
  },
  {
   "cell_type": "code",
   "execution_count": 46,
   "metadata": {},
   "outputs": [],
   "source": [
    "sms_spam_df = sms_spam_df.replace({'label':{'spam': 1, 'ham': 0}})"
   ]
  },
  {
   "cell_type": "markdown",
   "metadata": {},
   "source": [
    "#### Filtering stop words"
   ]
  },
  {
   "cell_type": "code",
   "execution_count": 47,
   "metadata": {},
   "outputs": [],
   "source": [
    "from nltk.corpus import stopwords\n",
    "filtered_text = []\n",
    "\n",
    "for i in range(0,len(sms_spam_df)):\n",
    "    word_list = str(sms_spam_df.text.iloc[i]).split()\n",
    "    filtered_words = [word for word in word_list if word not in stopwords.words('english')]\n",
    "    filtered_text.append(' '.join(filtered_words))\n",
    "sms_spam_df['filtered_text'] = filtered_text\n",
    "sms_spam_df['filtered_text_lower'] = sms_spam_df['filtered_text'].str.lower()"
   ]
  },
  {
   "cell_type": "code",
   "execution_count": 48,
   "metadata": {},
   "outputs": [],
   "source": [
    "spam_text = []\n",
    "spam_df = sms_spam_df[sms_spam_df.label==1]\n",
    "\n",
    "for i in range(0,len(spam_df)):\n",
    "    spam_text.append(spam_df.filtered_text.iloc[i])\n",
    "    \n",
    "ham_text = []\n",
    "ham_df = sms_spam_df[sms_spam_df.label==0]\n",
    "\n",
    "for i in range(0,len(ham_df)):\n",
    "    ham_text.append(ham_df.filtered_text.iloc[i])"
   ]
  },
  {
   "cell_type": "markdown",
   "metadata": {},
   "source": [
    "#### Visualising most used words"
   ]
  },
  {
   "cell_type": "code",
   "execution_count": 49,
   "metadata": {},
   "outputs": [],
   "source": [
    "import nltk\n",
    "import matplotlib.pyplot as plt"
   ]
  },
  {
   "cell_type": "code",
   "execution_count": 50,
   "metadata": {},
   "outputs": [
    {
     "name": "stdout",
     "output_type": "stream",
     "text": [
      "\n",
      "Below is the plot of 50 most commonly used words in SPAM comment\n"
     ]
    },
    {
     "data": {
      "image/png": "[encoded data removed]",
      "text/plain": [
       "<Figure size 1080x504 with 1 Axes>"
      ]
     },
     "metadata": {},
     "output_type": "display_data"
    },
    {
     "name": "stdout",
     "output_type": "stream",
     "text": [
      "\n",
      "Below is the plot of 50 most commonly used words in HAM comment\n"
     ]
    },
    {
     "data": {
      "image/png": "[encoded data removed]",
      "text/plain": [
       "<Figure size 1080x504 with 1 Axes>"
      ]
     },
     "metadata": {},
     "output_type": "display_data"
    }
   ],
   "source": [
    "\n",
    "spam_text = ' '.join(spam_text).split()\n",
    "freq = nltk.FreqDist(spam_text)\n",
    "\n",
    "print(\"\\nBelow is the plot of 50 most commonly used words in SPAM comment\")\n",
    "plt.figure(figsize=(15,7))\n",
    "freq.most_common(50)\n",
    "freq.plot(50)\n",
    "\n",
    "ham_text = ' '.join(ham_text).split()\n",
    "freq = nltk.FreqDist(ham_text)\n",
    "print(\"\\nBelow is the plot of 50 most commonly used words in HAM comment\")\n",
    "\n",
    "plt.figure(figsize=(15,7))\n",
    "freq.most_common(50)\n",
    "freq.plot(50)"
   ]
  },
  {
   "cell_type": "code",
   "execution_count": 51,
   "metadata": {},
   "outputs": [],
   "source": [
    "from itertools import combinations\n",
    "from collections import Counter"
   ]
  },
  {
   "cell_type": "code",
   "execution_count": 52,
   "metadata": {},
   "outputs": [],
   "source": [
    "def ngram(lines,i): \n",
    "    pair_counter = Counter()\n",
    "    for line in lines:\n",
    "        unique_tokens = sorted(set(line))\n",
    "    combos = combinations(unique_tokens, i)\n",
    "    pair_counter += Counter(combos)\n",
    "    return pair_counter"
   ]
  },
  {
   "cell_type": "code",
   "execution_count": 53,
   "metadata": {},
   "outputs": [],
   "source": [
    "lines = [] \n",
    "for i in range(0,len(spam_df)):\n",
    "    tokens = spam_df.filtered_text_lower.iloc[i].split()\n",
    "    lines.append(tokens)\n",
    "\n",
    "one_gram_spam = ngram(lines,1)\n",
    "bi_gram_spam = ngram(lines,2)\n",
    "tri_gram_spam = ngram(lines,3)\n"
   ]
  },
  {
   "cell_type": "code",
   "execution_count": 54,
   "metadata": {},
   "outputs": [],
   "source": [
    "lines = [] \n",
    "for i in range(0,len(ham_df)):\n",
    "    tokens = ham_df.filtered_text_lower.iloc[i].split()\n",
    "    lines.append(tokens)\n",
    "\n",
    "one_gram_ham = ngram(lines,1)\n",
    "bi_gram_ham = ngram(lines,2)\n",
    "tri_gram_ham = ngram(lines,3)"
   ]
  },
  {
   "cell_type": "code",
   "execution_count": 55,
   "metadata": {},
   "outputs": [
    {
     "data": {
      "text/plain": [
       "[(('call',), 1),\n",
       " (('tried',), 1),\n",
       " (('claim',), 1),\n",
       " (('pound',), 1),\n",
       " (('2',), 1),\n",
       " (('10p',), 1),\n",
       " (('now1!',), 1),\n",
       " (('contact',), 1),\n",
       " (('2nd',), 1),\n",
       " (('u.',), 1),\n",
       " (('bt-national-rate.',), 1),\n",
       " (('prize.',), 1),\n",
       " (('this',), 1),\n",
       " (('per',), 1),\n",
       " (('time',), 1),\n",
       " (('only',), 1),\n",
       " (('087187272008',), 1),\n",
       " (('easy,',), 1),\n",
       " (('minute.',), 1),\n",
       " (('â£750',), 1)]"
      ]
     },
     "execution_count": 55,
     "metadata": {},
     "output_type": "execute_result"
    }
   ],
   "source": [
    "one_gram_spam.most_common(20)"
   ]
  },
  {
   "cell_type": "code",
   "execution_count": 56,
   "metadata": {},
   "outputs": [
    {
     "data": {
      "text/plain": [
       "[(('pound', 'tried'), 1),\n",
       " (('2', 'time'), 1),\n",
       " (('bt-national-rate.', 'pound'), 1),\n",
       " (('10p', 'time'), 1),\n",
       " (('2', 'u.'), 1),\n",
       " (('087187272008', 'â£750'), 1),\n",
       " (('contact', 'easy,'), 1),\n",
       " (('10p', 'u.'), 1),\n",
       " (('2nd', 'only'), 1),\n",
       " (('087187272008', 'easy,'), 1),\n",
       " (('2', 'u'), 1),\n",
       " (('pound', 'this'), 1),\n",
       " (('now1!', 'time'), 1),\n",
       " (('easy,', 'now1!'), 1),\n",
       " (('2nd', 'u'), 1),\n",
       " (('087187272008', 'contact'), 1),\n",
       " (('claim', 'easy,'), 1),\n",
       " (('minute.', 'tried'), 1),\n",
       " (('call', 'now1!'), 1),\n",
       " (('claim', 'contact'), 1)]"
      ]
     },
     "execution_count": 56,
     "metadata": {},
     "output_type": "execute_result"
    }
   ],
   "source": [
    "bi_gram_spam.most_common(20)"
   ]
  },
  {
   "cell_type": "code",
   "execution_count": 57,
   "metadata": {},
   "outputs": [
    {
     "data": {
      "text/plain": [
       "[(('087187272008', 'this', 'tried'), 1),\n",
       " (('call', 'contact', 'tried'), 1),\n",
       " (('minute.', 'this', 'time'), 1),\n",
       " (('10p', 'minute.', 'now1!'), 1),\n",
       " (('now1!', 'only', 'pound'), 1),\n",
       " (('bt-national-rate.', 'now1!', 'only'), 1),\n",
       " (('easy,', 'minute.', 'now1!'), 1),\n",
       " (('2nd', 'call', 'u.'), 1),\n",
       " (('per', 'prize.', 'this'), 1),\n",
       " (('claim', 'easy,', 'this'), 1),\n",
       " (('10p', 'easy,', 'prize.'), 1),\n",
       " (('prize.', 'time', 'tried'), 1),\n",
       " (('087187272008', 'only', 'â£750'), 1),\n",
       " (('10p', 'contact', 'â£750'), 1),\n",
       " (('per', 'time', 'u.'), 1),\n",
       " (('contact', 'minute.', 'per'), 1),\n",
       " (('087187272008', 'per', 'this'), 1),\n",
       " (('087187272008', 'bt-national-rate.', 'per'), 1),\n",
       " (('prize.', 'u.', 'â£750'), 1),\n",
       " (('087187272008', 'pound', 'tried'), 1)]"
      ]
     },
     "execution_count": 57,
     "metadata": {},
     "output_type": "execute_result"
    }
   ],
   "source": [
    "tri_gram_spam.most_common(20)"
   ]
  },
  {
   "cell_type": "code",
   "execution_count": 58,
   "metadata": {},
   "outputs": [],
   "source": [
    "# text = ''\n",
    "# for i in range(0,len(ham_df)):\n",
    "#     text = text + str(ham_df.filtered_text_lower.iloc[i])\n",
    "    \n",
    "# from wordcloud import (WordCloud, get_single_color_func)\n",
    "# import matplotlib.pyplot as plt\n",
    "\n",
    "# plt.figure(figsize=(12,9))\n",
    "# wordcloud = WordCloud().generate(text)\n",
    "# plt.imshow(wordcloud)\n",
    "# plt.axis(\"off\")\n",
    "# plt.show()"
   ]
  },
  {
   "cell_type": "code",
   "execution_count": 59,
   "metadata": {},
   "outputs": [],
   "source": [
    "# text = ''\n",
    "# for i in range(0,len(spam_df)):\n",
    "#     text = text + str(spam_df.filtered_text_lower.iloc[i])\n",
    "    \n",
    "# from wordcloud import (WordCloud, get_single_color_func)\n",
    "# import matplotlib.pyplot as plt\n",
    "\n",
    "# plt.figure(figsize=(12,9))\n",
    "# wordcloud = WordCloud().generate(text)\n",
    "# plt.imshow(wordcloud)\n",
    "# plt.axis(\"off\")\n",
    "# plt.show()"
   ]
  },
  {
   "cell_type": "markdown",
   "metadata": {},
   "source": [
    "####  Preprocessing and splitting Data"
   ]
  },
  {
   "cell_type": "code",
   "execution_count": 60,
   "metadata": {},
   "outputs": [],
   "source": [
    "NB_df = sms_spam_df[['filtered_text_lower','label']]\n",
    "NB_df = NB_df.sample(frac=1)\n",
    "\n",
    "from sklearn.feature_extraction.text import CountVectorizer\n",
    "\n",
    "vecfinal = CountVectorizer(min_df=50,max_df=0.8,stop_words=\"english\")\n",
    "finalX = vecfinal.fit_transform(NB_df['filtered_text_lower'])"
   ]
  },
  {
   "cell_type": "code",
   "execution_count": 61,
   "metadata": {},
   "outputs": [],
   "source": [
    "from sklearn.cross_validation import train_test_split\n",
    "X_train, X_test, y_train, y_test = train_test_split(finalX.toarray(), NB_df.label, test_size=0.1, random_state=0)\n",
    "#split_limit = round(len(NB_df)/2)\n",
    "#X_train = finalX.toarray()[:split_limit]\n",
    "#X_test = finalX.toarray()[split_limit:]\n",
    "#y_train = NB_df.label[:split_limit]\n",
    "#y_test = NB_df.label[split_limit:]"
   ]
  },
  {
   "cell_type": "markdown",
   "metadata": {},
   "source": [
    "####  NAive Bayes Classifier"
   ]
  },
  {
   "cell_type": "code",
   "execution_count": 62,
   "metadata": {},
   "outputs": [
    {
     "name": "stdout",
     "output_type": "stream",
     "text": [
      "\n",
      " Accuracyfor training data: 97.00956937799043 %\n",
      "\n",
      " Accuracyfor test data: 97.67025089605734 %\n",
      "\n",
      " Confusion Matrix: \n",
      "\n",
      "[[484   2]\n",
      " [ 11  61]]\n",
      "\n",
      " TABLE: \n",
      "\n",
      "  Label  Precision    FScore    Recall  Support\n",
      "0    -1   0.977778  0.986748  0.995885      486\n",
      "1     1   0.968254  0.903704  0.847222       72\n",
      "\n",
      " HEAT MAP: \n"
     ]
    },
    {
     "data": {
      "text/plain": [
       "<matplotlib.axes._subplots.AxesSubplot at 0x28b950f8828>"
      ]
     },
     "execution_count": 62,
     "metadata": {},
     "output_type": "execute_result"
    },
    {
     "data": {
      "image/png": "[encoded data removed]",
      "text/plain": [
       "<Figure size 432x288 with 2 Axes>"
      ]
     },
     "metadata": {},
     "output_type": "display_data"
    }
   ],
   "source": [
    "from sklearn.naive_bayes import BernoulliNB\n",
    "from sklearn.metrics import f1_score\n",
    "from sklearn.metrics import confusion_matrix\n",
    "\n",
    "clf_nb = BernoulliNB()\n",
    "clf_nb.fit(X_train, y_train)\n",
    "ypred = clf_nb.predict(X_test)\n",
    "\n",
    "\n",
    "cm1 = confusion_matrix(y_test, ypred)\n",
    "print(\"\\n Accuracyfor training data:\", clf_nb.score(X_train,y_train)*100, \"%\")\n",
    "print(\"\\n Accuracyfor test data:\", clf_nb.score(X_test,y_test)*100, \"%\")\n",
    "print(\"\\n Confusion Matrix: \\n\")\n",
    "print(cm1)\n",
    "print(\"\\n TABLE: \\n\")\n",
    "\n",
    "precision, recall, fscore, support = score(y_test, ypred)\n",
    "df_tab1 = pd.DataFrame({'Label' : ['-1','1'], 'Precision' : precision, 'Recall': recall, 'FScore' : fscore, 'Support' : support})\n",
    "df_tab1 = df_tab1[['Label', 'Precision', 'FScore', 'Recall', 'Support']]\n",
    "print(df_tab1)\n",
    "\n",
    "\n",
    "print(\"\\n HEAT MAP: \")\n",
    "\n",
    "df_cm1 = pd.DataFrame(cm1, range(2),range(2))\n",
    "sn.set(font_scale=1.4)#for label size\n",
    "sn.heatmap(df_cm1, annot=True,annot_kws={\"size\": 10})# font size"
   ]
  },
  {
   "cell_type": "markdown",
   "metadata": {},
   "source": [
    "#### SVM Classifier"
   ]
  },
  {
   "cell_type": "code",
   "execution_count": 63,
   "metadata": {},
   "outputs": [
    {
     "name": "stdout",
     "output_type": "stream",
     "text": [
      "\n",
      " Accuracy for training : 94.59728867623605 %\n",
      "\n",
      " Accuracy for testing : 95.3405017921147 %\n",
      "\n",
      " Confusion Matrix: \n",
      "\n",
      "[[486   0]\n",
      " [ 26  46]]\n",
      "\n",
      " TABLE: \n",
      "\n",
      "  Label  Precision    FScore    Recall  Support\n",
      "0     0   0.949219  0.973948  1.000000      486\n",
      "1     1   1.000000  0.779661  0.638889       72\n",
      "\n",
      " HEAT MAP: \n"
     ]
    },
    {
     "data": {
      "text/plain": [
       "<matplotlib.axes._subplots.AxesSubplot at 0x28b950f87b8>"
      ]
     },
     "execution_count": 63,
     "metadata": {},
     "output_type": "execute_result"
    },
    {
     "data": {
      "image/png": "[encoded data removed]",
      "text/plain": [
       "<Figure size 432x288 with 2 Axes>"
      ]
     },
     "metadata": {},
     "output_type": "display_data"
    }
   ],
   "source": [
    "cf_svc = SVC()\n",
    "cf_svc.fit(X_train,y_train)\n",
    "pred1 = cf_svc.predict(X_test) \n",
    "cm1 = confusion_matrix(y_test, pred1)\n",
    "print(\"\\n Accuracy for training :\", cf_svc.score(X_train,y_train)*100, \"%\")\n",
    "print(\"\\n Accuracy for testing :\", cf_svc.score(X_test,y_test)*100, \"%\")\n",
    "print(\"\\n Confusion Matrix: \\n\")\n",
    "print(cm1)\n",
    "print(\"\\n TABLE: \\n\")\n",
    "\n",
    "precision, recall, fscore, support = score(y_test, pred1)\n",
    "df_tab1 = pd.DataFrame({'Label' : ['0','1'], 'Precision' : precision, 'Recall': recall, 'FScore' : fscore, 'Support' : support})\n",
    "df_tab1 = df_tab1[['Label', 'Precision', 'FScore', 'Recall', 'Support']]\n",
    "print(df_tab1)\n",
    "\n",
    "\n",
    "print(\"\\n HEAT MAP: \")\n",
    "\n",
    "df_cm1 = pd.DataFrame(cm1, range(2),range(2))\n",
    "sn.set(font_scale=1.4)#for label size\n",
    "sn.heatmap(df_cm1, annot=True,annot_kws={\"size\": 10})# font size"
   ]
  },
  {
   "cell_type": "markdown",
   "metadata": {},
   "source": [
    "#### Decision Tree Classifier"
   ]
  },
  {
   "cell_type": "code",
   "execution_count": 64,
   "metadata": {},
   "outputs": [
    {
     "name": "stdout",
     "output_type": "stream",
     "text": [
      "\n",
      " Accuracy for training : 98.84370015948963 %\n",
      "\n",
      " Accuracy for testing : 96.415770609319 %\n",
      "\n",
      " Confusion Matrix: \n",
      "\n",
      "[[480   6]\n",
      " [ 14  58]]\n",
      "\n",
      " TABLE: \n",
      "\n",
      "  Label  Precision    FScore    Recall  Support\n",
      "0     0    0.97166  0.979592  0.987654      486\n",
      "1     1    0.90625  0.852941  0.805556       72\n"
     ]
    }
   ],
   "source": [
    "clf_dt = DecisionTreeClassifier()\n",
    "clf_dt.fit(X_train,y_train)\n",
    "pred1 = clf_dt.predict(X_test) \n",
    "cm1 = confusion_matrix(y_test, pred1)\n",
    "print(\"\\n Accuracy for training :\", clf_dt.score(X_train,y_train)*100, \"%\")\n",
    "print(\"\\n Accuracy for testing :\", clf_dt.score(X_test,y_test)*100, \"%\")\n",
    "print(\"\\n Confusion Matrix: \\n\")\n",
    "print(cm1)\n",
    "print(\"\\n TABLE: \\n\")\n",
    "\n",
    "precision, recall, fscore, support = score(y_test, pred1)\n",
    "df_tab1 = pd.DataFrame({'Label' : ['0','1'], 'Precision' : precision, 'Recall': recall, 'FScore' : fscore, 'Support' : support})\n",
    "df_tab1 = df_tab1[['Label', 'Precision', 'FScore', 'Recall', 'Support']]\n",
    "print(df_tab1)"
   ]
  },
  {
   "cell_type": "markdown",
   "metadata": {},
   "source": [
    "#### Random Forest Classifier"
   ]
  },
  {
   "cell_type": "code",
   "execution_count": 65,
   "metadata": {},
   "outputs": [
    {
     "name": "stdout",
     "output_type": "stream",
     "text": [
      "\n",
      " Accuracy for training : 98.70414673046251 %\n",
      "\n",
      " Accuracy for testing : 97.1326164874552 %\n",
      "\n",
      " Confusion Matrix: \n",
      "\n",
      "[[483   3]\n",
      " [ 13  59]]\n",
      "\n",
      " TABLE: \n",
      "\n",
      "  Label  Precision    FScore    Recall  Support\n",
      "0    -1   0.973790  0.983707  0.993827      486\n",
      "1     1   0.951613  0.880597  0.819444       72\n",
      "\n",
      " HEAT MAP: \n"
     ]
    },
    {
     "data": {
      "text/plain": [
       "<matplotlib.axes._subplots.AxesSubplot at 0x28b951a36a0>"
      ]
     },
     "execution_count": 65,
     "metadata": {},
     "output_type": "execute_result"
    },
    {
     "data": {
      "image/png": "[encoded data removed]",
      "text/plain": [
       "<Figure size 432x288 with 2 Axes>"
      ]
     },
     "metadata": {},
     "output_type": "display_data"
    }
   ],
   "source": [
    "clf_rf = RandomForestClassifier()\n",
    "clf_rf.fit(X_train,y_train)\n",
    "pred1 = clf_rf.predict(X_test) \n",
    "cm1 = confusion_matrix(y_test, pred1)\n",
    "print(\"\\n Accuracy for training :\", clf_rf.score(X_train,y_train)*100, \"%\")\n",
    "print(\"\\n Accuracy for testing :\", clf_rf.score(X_test,y_test)*100, \"%\")\n",
    "print(\"\\n Confusion Matrix: \\n\")\n",
    "print(cm1)\n",
    "print(\"\\n TABLE: \\n\")\n",
    "\n",
    "precision, recall, fscore, support = score(y_test, pred1)\n",
    "df_tab1 = pd.DataFrame({'Label' : ['-1','1'], 'Precision' : precision, 'Recall': recall, 'FScore' : fscore, 'Support' : support})\n",
    "df_tab1 = df_tab1[['Label', 'Precision', 'FScore', 'Recall', 'Support']]\n",
    "print(df_tab1)\n",
    "\n",
    "\n",
    "print(\"\\n HEAT MAP: \")\n",
    "\n",
    "df_cm1 = pd.DataFrame(cm1, range(2),range(2))\n",
    "sn.set(font_scale=1.4)#for label size\n",
    "sn.heatmap(df_cm1, annot=True,annot_kws={\"size\": 10})# font size"
   ]
  },
  {
   "cell_type": "markdown",
   "metadata": {},
   "source": [
    "## LSTM on SMS Dataset"
   ]
  },
  {
   "cell_type": "code",
   "execution_count": 66,
   "metadata": {},
   "outputs": [
    {
     "name": "stderr",
     "output_type": "stream",
     "text": [
      "C:\\Users\\Pradeep Kumar\\Anaconda3\\envs\\tensorflow\\lib\\site-packages\\h5py\\__init__.py:36: FutureWarning: Conversion of the second argument of issubdtype from `float` to `np.floating` is deprecated. In future, it will be treated as `np.float64 == np.dtype(float).type`.\n",
      "  from ._conv import register_converters as _register_converters\n",
      "Using TensorFlow backend.\n"
     ]
    }
   ],
   "source": [
    "import pandas as pd\n",
    "import numpy as np\n",
    "import matplotlib.pyplot as plt\n",
    "%matplotlib inline\n",
    "import seaborn as sns\n",
    "from sklearn.model_selection import train_test_split\n",
    "from sklearn.preprocessing import LabelEncoder\n",
    "from keras.models import Model\n",
    "from keras.layers import LSTM, Activation, Dense, Dropout, Input, Embedding\n",
    "from keras.optimizers import RMSprop\n",
    "from keras.preprocessing.text import Tokenizer\n",
    "from keras.preprocessing import sequence\n",
    "from keras.utils import to_categorical\n",
    "from keras.callbacks import EarlyStopping"
   ]
  },
  {
   "cell_type": "code",
   "execution_count": 67,
   "metadata": {},
   "outputs": [],
   "source": [
    "X = sms_spam_df['text']\n",
    "Y = sms_spam_df['label']"
   ]
  },
  {
   "cell_type": "code",
   "execution_count": 68,
   "metadata": {},
   "outputs": [],
   "source": [
    "X_train,X_test,Y_train,Y_test = train_test_split(X,Y,test_size=0.15)"
   ]
  },
  {
   "cell_type": "code",
   "execution_count": 69,
   "metadata": {},
   "outputs": [],
   "source": [
    "max_words = 1000\n",
    "max_len = 150\n",
    "tok = Tokenizer(num_words=max_words)\n",
    "tok.fit_on_texts(X_train)  \n",
    "# can be a list of strings, a generator of strings (for memory-efficiency), or a list of list of strings.\n",
    "sequences = tok.texts_to_sequences(X_train)   # CONVERT TEXT TO SEQUENCES"
   ]
  },
  {
   "cell_type": "code",
   "execution_count": 70,
   "metadata": {},
   "outputs": [],
   "source": [
    "sequences_matrix = sequence.pad_sequences(sequences,maxlen=max_len)"
   ]
  },
  {
   "cell_type": "markdown",
   "metadata": {},
   "source": [
    "#### Defining LSTM structure"
   ]
  },
  {
   "cell_type": "code",
   "execution_count": 71,
   "metadata": {},
   "outputs": [],
   "source": [
    "def RNN():\n",
    "    inputs = Input(name='inputs',shape=[max_len])\n",
    "    \n",
    "    # `Input()` is used to instantiate a Keras tensor.\n",
    "    # A Keras tensor is a tensor object from the underlying backend (Theano, TensorFlow or CNTK), which we augment with certain\n",
    "    # attributes that allow us to build a Keras model just by knowing the inputs and outputs of the model.\n",
    "    \n",
    "    layer = Embedding(max_words,50,input_length=max_len)(inputs)\n",
    "    \n",
    "    # Turns positive integers (indexes) into dense vectors of fixed size.\n",
    "    # eg. [[4], [20]] -> [[0.25, 0.1], [0.6, -0.2]]\n",
    "    # This layer can only be used as the first layer in a model.\n",
    "    \n",
    "    layer = LSTM(64)(layer)  # units = 64\n",
    "    \n",
    "    layer = Dense(256,name='FC1')(layer) # units = 256\n",
    "    # Just your regular densely-connected NN layer.\n",
    "    \n",
    "    layer = Activation('relu')(layer)\n",
    "    # Applies an activation function to an output.\n",
    "    \n",
    "    layer = Dropout(0.5)(layer)\n",
    "    # Applies Dropout to the input.\n",
    "    # Dropout consists in randomly setting a fraction `rate` of input units to 0 at each update during training time,\n",
    "    # which helps prevent overfitting.\n",
    "    \n",
    "    layer = Dense(1,name='out_layer')(layer) # units = 1\n",
    "    layer = Activation('sigmoid')(layer)\n",
    "    model = Model(inputs=inputs,outputs=layer)\n",
    "    return model"
   ]
  },
  {
   "cell_type": "code",
   "execution_count": 72,
   "metadata": {},
   "outputs": [
    {
     "name": "stdout",
     "output_type": "stream",
     "text": [
      "WARNING:tensorflow:From C:\\Users\\Pradeep Kumar\\Anaconda3\\envs\\tensorflow\\lib\\site-packages\\tensorflow\\python\\framework\\op_def_library.py:263: colocate_with (from tensorflow.python.framework.ops) is deprecated and will be removed in a future version.\n",
      "Instructions for updating:\n",
      "Colocations handled automatically by placer.\n",
      "WARNING:tensorflow:From C:\\Users\\Pradeep Kumar\\Anaconda3\\envs\\tensorflow\\lib\\site-packages\\keras\\backend\\tensorflow_backend.py:3445: calling dropout (from tensorflow.python.ops.nn_ops) with keep_prob is deprecated and will be removed in a future version.\n",
      "Instructions for updating:\n",
      "Please use `rate` instead of `keep_prob`. Rate should be set to `rate = 1 - keep_prob`.\n",
      "_________________________________________________________________\n",
      "Layer (type)                 Output Shape              Param #   \n",
      "=================================================================\n",
      "inputs (InputLayer)          (None, 150)               0         \n",
      "_________________________________________________________________\n",
      "embedding_1 (Embedding)      (None, 150, 50)           50000     \n",
      "_________________________________________________________________\n",
      "lstm_1 (LSTM)                (None, 64)                29440     \n",
      "_________________________________________________________________\n",
      "FC1 (Dense)                  (None, 256)               16640     \n",
      "_________________________________________________________________\n",
      "activation_1 (Activation)    (None, 256)               0         \n",
      "_________________________________________________________________\n",
      "dropout_1 (Dropout)          (None, 256)               0         \n",
      "_________________________________________________________________\n",
      "out_layer (Dense)            (None, 1)                 257       \n",
      "_________________________________________________________________\n",
      "activation_2 (Activation)    (None, 1)                 0         \n",
      "=================================================================\n",
      "Total params: 96,337\n",
      "Trainable params: 96,337\n",
      "Non-trainable params: 0\n",
      "_________________________________________________________________\n"
     ]
    }
   ],
   "source": [
    "model = RNN()\n",
    "model.summary()"
   ]
  },
  {
   "cell_type": "code",
   "execution_count": 73,
   "metadata": {},
   "outputs": [],
   "source": [
    "model.compile(optimizer=RMSprop(),loss='binary_crossentropy',metrics=['accuracy'])\n",
    "\n",
    "# RMSProp optimizer.\n",
    "# It is recommended to leave the parameters of this optimizer at their default values\n",
    "# (except the learning rate, which can be freely tuned).\n",
    "# This optimizer is usually a good choice for recurrent neural networks."
   ]
  },
  {
   "cell_type": "code",
   "execution_count": 74,
   "metadata": {},
   "outputs": [
    {
     "name": "stdout",
     "output_type": "stream",
     "text": [
      "WARNING:tensorflow:From C:\\Users\\Pradeep Kumar\\Anaconda3\\envs\\tensorflow\\lib\\site-packages\\tensorflow\\python\\ops\\math_ops.py:3066: to_int32 (from tensorflow.python.ops.math_ops) is deprecated and will be removed in a future version.\n",
      "Instructions for updating:\n",
      "Use tf.cast instead.\n",
      "Train on 3789 samples, validate on 948 samples\n",
      "Epoch 1/10\n",
      "3789/3789 [==============================] - 7s 2ms/step - loss: 0.3100 - acc: 0.8807 - val_loss: 0.1377 - val_acc: 0.9800\n",
      "Epoch 2/10\n",
      "3789/3789 [==============================] - 6s 1ms/step - loss: 0.0803 - acc: 0.9797 - val_loss: 0.0520 - val_acc: 0.9852\n",
      "Epoch 3/10\n",
      "3789/3789 [==============================] - 5s 1ms/step - loss: 0.0407 - acc: 0.9879 - val_loss: 0.0456 - val_acc: 0.9852\n",
      "Epoch 4/10\n",
      "3789/3789 [==============================] - 5s 1ms/step - loss: 0.0269 - acc: 0.9921 - val_loss: 0.0423 - val_acc: 0.9852\n",
      "Epoch 5/10\n",
      "3789/3789 [==============================] - 5s 1ms/step - loss: 0.0212 - acc: 0.9945 - val_loss: 0.0433 - val_acc: 0.9873\n"
     ]
    },
    {
     "data": {
      "text/plain": [
       "<keras.callbacks.History at 0x28b9aa8e518>"
      ]
     },
     "execution_count": 74,
     "metadata": {},
     "output_type": "execute_result"
    }
   ],
   "source": [
    "model.fit(sequences_matrix,Y_train,batch_size=128,epochs=10,\n",
    "          validation_split=0.2,callbacks=[EarlyStopping(monitor='val_loss',min_delta=0.0001)])"
   ]
  },
  {
   "cell_type": "code",
   "execution_count": 75,
   "metadata": {},
   "outputs": [],
   "source": [
    "test_sequences = tok.texts_to_sequences(X_test)\n",
    "test_sequences_matrix = sequence.pad_sequences(test_sequences,maxlen=max_len)"
   ]
  },
  {
   "cell_type": "code",
   "execution_count": 76,
   "metadata": {},
   "outputs": [
    {
     "name": "stdout",
     "output_type": "stream",
     "text": [
      "837/837 [==============================] - 1s 730us/step\n"
     ]
    }
   ],
   "source": [
    "accr = model.evaluate(test_sequences_matrix,Y_test)"
   ]
  },
  {
   "cell_type": "code",
   "execution_count": 77,
   "metadata": {},
   "outputs": [
    {
     "name": "stdout",
     "output_type": "stream",
     "text": [
      "837/837 [==============================] - 1s 684us/step\n"
     ]
    }
   ],
   "source": [
    "accr = model.evaluate(test_sequences_matrix,Y_test)"
   ]
  },
  {
   "cell_type": "code",
   "execution_count": 78,
   "metadata": {},
   "outputs": [
    {
     "name": "stdout",
     "output_type": "stream",
     "text": [
      "Test set\n",
      "  Loss: 0.109\n",
      "  Accuracy: 0.978\n"
     ]
    }
   ],
   "source": [
    "print('Test set\\n  Loss: {:0.3f}\\n  Accuracy: {:0.3f}'.format(accr[0],accr[1]))"
   ]
  }
 ],
 "metadata": {
  "kernelspec": {
   "display_name": "Python 3",
   "language": "python",
   "name": "python3"
  },
  "language_info": {
   "codemirror_mode": {
    "name": "ipython",
    "version": 3
   },
   "file_extension": ".py",
   "mimetype": "text/x-python",
   "name": "python",
   "nbconvert_exporter": "python",
   "pygments_lexer": "ipython3",
   "version": "3.5.1"
  }
 },
 "nbformat": 4,
 "nbformat_minor": 2
}
